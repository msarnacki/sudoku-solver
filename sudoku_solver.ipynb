{
 "cells": [
  {
   "cell_type": "code",
   "execution_count": 59,
   "metadata": {},
   "outputs": [],
   "source": [
    "import numpy as np\n",
    "import pandas as pd"
   ]
  },
  {
   "cell_type": "code",
   "execution_count": 60,
   "metadata": {},
   "outputs": [],
   "source": [
    "#sudoku = np.zeros(81,dtype=\"int\").reshape(9,9)\n",
    "\n",
    "sudoku = [[0, 2, 0, 0, 0, 0, 0, 0, 0],\n",
    "          [0, 4, 0, 0, 0, 0, 0, 0, 0],\n",
    "          [0, 0, 0, 0, 0, 0, 0, 0, 0],\n",
    "          [0, 0, 0, 0, 0, 0, 0, 0, 0],\n",
    "          [0, 0, 0, 0, 0, 0, 0, 0, 0],\n",
    "          [1, 0, 0, 0, 0, 0, 0, 0, 0],\n",
    "          [0, 0, 3, 0, 0, 0, 0, 0, 0],\n",
    "          [0, 0, 0, 0, 0, 0, 0, 0, 0],\n",
    "          [0, 0, 0, 0, 0, 0, 0, 0, 0]]"
   ]
  },
  {
   "cell_type": "code",
   "execution_count": 61,
   "metadata": {},
   "outputs": [],
   "source": [
    "sudoku = np.array(sudoku)"
   ]
  },
  {
   "cell_type": "code",
   "execution_count": 62,
   "metadata": {},
   "outputs": [
    {
     "data": {
      "text/plain": [
       "array([[0, 2, 0, 0, 0, 0, 0, 0, 0],\n",
       "       [0, 4, 0, 0, 0, 0, 0, 0, 0],\n",
       "       [0, 0, 0, 0, 0, 0, 0, 0, 0],\n",
       "       [0, 0, 0, 0, 0, 0, 0, 0, 0],\n",
       "       [0, 0, 0, 0, 0, 0, 0, 0, 0],\n",
       "       [1, 0, 0, 0, 0, 0, 0, 0, 0],\n",
       "       [0, 0, 3, 0, 0, 0, 0, 0, 0],\n",
       "       [0, 0, 0, 0, 0, 0, 0, 0, 0],\n",
       "       [0, 0, 0, 0, 0, 0, 0, 0, 0]])"
      ]
     },
     "execution_count": 62,
     "metadata": {},
     "output_type": "execute_result"
    }
   ],
   "source": [
    "#print(sudoku)\n",
    "sudoku"
   ]
  },
  {
   "cell_type": "code",
   "execution_count": 63,
   "metadata": {},
   "outputs": [],
   "source": [
    "#sudoku[1,3] - value from row 1 and col 3\n",
    "#sudoku[:,3] - whole column 3\n",
    "#sudoku[1,:] - whole row 1"
   ]
  },
  {
   "cell_type": "code",
   "execution_count": 64,
   "metadata": {},
   "outputs": [],
   "source": [
    "def if_possible(sudoku, row, col, number):\n",
    "    possible = False\n",
    "    \n",
    "    ##check if number in row\n",
    "    if number not in sudoku[row,:]:\n",
    "        possible = True\n",
    "    else:\n",
    "        return False\n",
    "    \n",
    "    ##check if number in column\n",
    "    if number not in sudoku[:,col]:\n",
    "        possible = True\n",
    "    else:\n",
    "        return False\n",
    "    \n",
    "    ##check if number in squere 3x3\n",
    "    start_sq_row = row // 3 #floor qoutient\n",
    "    start_sq_col = col // 3\n",
    "    end_sq_row = start_sq_row + 2\n",
    "    end_sq_col = start_sq_col + 2\n",
    "    \n",
    "#     print(\"Starting row of squere: {}\".format(start_sq_row))\n",
    "#     print(\"Starting column of squere: {}\".format(start_sq_col))\n",
    "#     print(\"Ending row of squere: {}\".format(end_sq_row))\n",
    "#     print(\"Ending column of squere: {}\".format(end_sq_col))\n",
    "    \n",
    "    if number not in sudoku[start_sq_row:end_sq_row,start_sq_col:end_sq_col]:\n",
    "        possible = True\n",
    "    else:\n",
    "        return False\n",
    "    \n",
    "    return possible"
   ]
  },
  {
   "cell_type": "code",
   "execution_count": 67,
   "metadata": {},
   "outputs": [
    {
     "data": {
      "text/plain": [
       "False"
      ]
     },
     "execution_count": 67,
     "metadata": {},
     "output_type": "execute_result"
    }
   ],
   "source": [
    "if_possible(sudoku, 0, 1, 4)"
   ]
  },
  {
   "cell_type": "code",
   "execution_count": null,
   "metadata": {},
   "outputs": [],
   "source": []
  },
  {
   "cell_type": "code",
   "execution_count": null,
   "metadata": {},
   "outputs": [],
   "source": []
  }
 ],
 "metadata": {
  "kernelspec": {
   "display_name": "Python 3",
   "language": "python",
   "name": "python3"
  },
  "language_info": {
   "codemirror_mode": {
    "name": "ipython",
    "version": 3
   },
   "file_extension": ".py",
   "mimetype": "text/x-python",
   "name": "python",
   "nbconvert_exporter": "python",
   "pygments_lexer": "ipython3",
   "version": "3.7.3"
  }
 },
 "nbformat": 4,
 "nbformat_minor": 2
}
