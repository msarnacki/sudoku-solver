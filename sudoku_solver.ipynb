{
 "cells": [
  {
   "cell_type": "code",
   "execution_count": 112,
   "metadata": {},
   "outputs": [],
   "source": [
    "import numpy as np\n",
    "import pandas as pd"
   ]
  },
  {
   "cell_type": "code",
   "execution_count": 113,
   "metadata": {},
   "outputs": [],
   "source": [
    "#sudoku = np.zeros(81,dtype=\"int\").reshape(9,9)\n",
    "def clear_sudoku():\n",
    "    sudoku = [[0, 0, 0, 0, 0, 0, 0, 0, 0],\n",
    "              [0, 0, 0, 0, 0, 0, 0, 0, 0],\n",
    "              [0, 0, 0, 0, 0, 0, 0, 0, 0],\n",
    "              [0, 0, 0, 0, 0, 0, 0, 0, 0],\n",
    "              [0, 0, 0, 0, 0, 0, 0, 0, 0],\n",
    "              [0, 0, 0, 0, 0, 0, 0, 0, 0],\n",
    "              [0, 0, 0, 0, 0, 0, 0, 0, 0],\n",
    "              [0, 0, 0, 0, 0, 0, 0, 0, 0],\n",
    "              [0, 0, 0, 0, 0, 0, 0, 0, 0]]\n",
    "\n",
    "    sudoku = np.array(sudoku)\n",
    "    return sudoku"
   ]
  },
  {
   "cell_type": "code",
   "execution_count": 114,
   "metadata": {},
   "outputs": [],
   "source": [
    "def example_sudoku():\n",
    "    sudoku = [[0, 7, 0, 4, 0, 5, 6, 0, 0],\n",
    "              [9, 2, 4, 0, 6, 0, 8, 0, 0],\n",
    "              [1, 0, 5, 0, 0, 8, 7, 0, 0],\n",
    "              [0, 3, 8, 0, 5, 7, 0, 0, 0],\n",
    "              [0, 0, 0, 0, 0, 0, 0, 7, 3],\n",
    "              [0, 4, 7, 0, 9, 0, 1, 2, 0],\n",
    "              [4, 0, 9, 6, 0, 2, 0, 0, 1],\n",
    "              [7, 0, 0, 8, 3, 0, 4, 0, 9],\n",
    "              [0, 1, 0, 5, 4, 9, 0, 0, 0]]\n",
    "\n",
    "    sudoku = np.array(sudoku)\n",
    "    return sudoku"
   ]
  },
  {
   "cell_type": "code",
   "execution_count": 4,
   "metadata": {},
   "outputs": [],
   "source": [
    "#sudoku[1,3] - value from row 1 and col 3\n",
    "#sudoku[:,3] - whole column 3\n",
    "#sudoku[1,:] - whole row 1"
   ]
  },
  {
   "cell_type": "code",
   "execution_count": 115,
   "metadata": {},
   "outputs": [],
   "source": [
    "def if_possible(sudoku, row, col, number):\n",
    "    possible = False\n",
    "    \n",
    "    ##check if number in row\n",
    "    if number not in sudoku[row,:]:\n",
    "        possible = True\n",
    "    else:\n",
    "        return False\n",
    "    \n",
    "    ##check if number in column\n",
    "    if number not in sudoku[:,col]:\n",
    "        possible = True\n",
    "    else:\n",
    "        return False\n",
    "    \n",
    "    ##check if number in squere 3x3\n",
    "    start_sq_row = row // 3 #floor qoutient\n",
    "    # can make it prettier\n",
    "    if start_sq_row == 1:\n",
    "        start_sq_row = 3\n",
    "    elif start_sq_row ==2:\n",
    "        start_sq_row = 6\n",
    "    start_sq_col = col // 3\n",
    "    if start_sq_col == 1:\n",
    "        start_sq_col = 3\n",
    "    elif start_sq_col ==2:\n",
    "        start_sq_col = 6\n",
    "        \n",
    "    end_sq_row = start_sq_row + 3\n",
    "    end_sq_col = start_sq_col + 3\n",
    "    \n",
    "#     print(\"Starting row of squere: {}\".format(start_sq_row))\n",
    "#     print(\"Starting column of squere: {}\".format(start_sq_col))\n",
    "#     print(\"Ending row of squere: {}\".format(end_sq_row))\n",
    "#     print(\"Ending column of squere: {}\".format(end_sq_col))\n",
    "    \n",
    "    if number not in sudoku[start_sq_row:end_sq_row,start_sq_col:end_sq_col]:\n",
    "        possible = True\n",
    "    else:\n",
    "        return False\n",
    "    \n",
    "    return possible"
   ]
  },
  {
   "cell_type": "code",
   "execution_count": 6,
   "metadata": {},
   "outputs": [],
   "source": [
    "## checking if function works\n",
    "#if_possible(sudoku, 1, 6, 1)"
   ]
  },
  {
   "cell_type": "code",
   "execution_count": 7,
   "metadata": {},
   "outputs": [],
   "source": [
    "## just putting in (biggest - for now) possible number in every place\n",
    "\n",
    "# i for rows\n",
    "# for i in range(9):\n",
    "#     # j for cols\n",
    "#     for j in range(9):\n",
    "#         # do only if number is 0 \n",
    "#         if sudoku[i][j] == 0:\n",
    "#             # check all numbers\n",
    "#             for n in range(1,10):\n",
    "#                 # if possible put number there\n",
    "#                 if if_possible(sudoku, i, j, n) == True:\n",
    "#                     sudoku[i][j] = n"
   ]
  },
  {
   "cell_type": "code",
   "execution_count": null,
   "metadata": {},
   "outputs": [],
   "source": []
  },
  {
   "cell_type": "code",
   "execution_count": 116,
   "metadata": {},
   "outputs": [],
   "source": [
    "## recursive function solving sudoku\n",
    "# args: sudoku in actual state, row and col that is checked (and filled), number that is checked in this step\n",
    "def solve(sudoku, on_start, row, col, number):\n",
    "    #if cell = 0 then start checking possibilities\n",
    "    if sudoku[row][col] == 0:\n",
    "        if_possib = if_possible(sudoku, row, col, number)\n",
    "        #if possible to put number in cell - put number in that cell\n",
    "        if if_possib == True:\n",
    "            sudoku[row][col] = number\n",
    "            #####\n",
    "            #if last column\n",
    "            if col == 8:\n",
    "                #if last row\n",
    "                if row == 8:\n",
    "                    #we are in last cell and it is not equal to 0 -> return sudoku\n",
    "                    return sudoku\n",
    "                #if not last row\n",
    "                else:\n",
    "                    #go to firs (0) column and next row\n",
    "                    col = 0\n",
    "                    row = row + 1\n",
    "            #if not last column\n",
    "            else:\n",
    "                #go to next column and stay in same row\n",
    "                col = col + 1\n",
    "            #GO TO NEXT CELL #recursive solve with actual state of sudoku, changed row and col and number 1 - because checking values in new cell starts from 1\n",
    "            return solve(sudoku, on_start, row, col, 1)\n",
    "            #####\n",
    "        #if not possible to put number in cell\n",
    "        else:\n",
    "            #if number is 9 - error\n",
    "            if number == 9:\n",
    "                #INSTEAD OF ERROR NOW I NEED TO PUT HERE MECHANISM THAT WILL GO BACK AND \n",
    "                #TRY TO PUT ANOTHER POSSIBLE NUMBER IN PREVIOUS CELL THAT WASN'T FILLED ON START\n",
    "                #WILL DO IT USING ON_START VARIABLE\n",
    "                print(\"error\")\n",
    "                return sudoku\n",
    "            #if number is not 9 (less than 9) recursive solve with number = number + 1\n",
    "            else:\n",
    "                return solve(sudoku, on_start, row, col, number + 1)\n",
    "    #if cell != 0 then don't check possibilities\n",
    "    else:\n",
    "        #####\n",
    "        #if last column\n",
    "        if col == 8:\n",
    "            #if last row\n",
    "            if row == 8:\n",
    "                #we are in last cell and it is not equal to 0 -> return sudoku\n",
    "                return sudoku\n",
    "            #if not last row\n",
    "            else:\n",
    "                #go to firs (0) column and next row\n",
    "                col = 0\n",
    "                row = row + 1\n",
    "        #if not last column\n",
    "        else:\n",
    "            #go to next column and stay in same row\n",
    "            col = col + 1\n",
    "        #GO TO NEXT CELL #recursive solve with actual state of sudoku, changed row and col and number 1 - because checking values in new cell starts from 1\n",
    "        return solve(sudoku, on_start, row, col, 1)\n",
    "        #####\n",
    "    \n",
    "    "
   ]
  },
  {
   "cell_type": "code",
   "execution_count": null,
   "metadata": {},
   "outputs": [],
   "source": []
  },
  {
   "cell_type": "code",
   "execution_count": null,
   "metadata": {},
   "outputs": [],
   "source": []
  },
  {
   "cell_type": "code",
   "execution_count": 117,
   "metadata": {},
   "outputs": [],
   "source": [
    "sudoku = clear_sudoku()\n",
    "sudoku = example_sudoku()"
   ]
  },
  {
   "cell_type": "code",
   "execution_count": 118,
   "metadata": {},
   "outputs": [
    {
     "data": {
      "text/plain": [
       "array([[0, 7, 0, 4, 0, 5, 6, 0, 0],\n",
       "       [9, 2, 4, 0, 6, 0, 8, 0, 0],\n",
       "       [1, 0, 5, 0, 0, 8, 7, 0, 0],\n",
       "       [0, 3, 8, 0, 5, 7, 0, 0, 0],\n",
       "       [0, 0, 0, 0, 0, 0, 0, 7, 3],\n",
       "       [0, 4, 7, 0, 9, 0, 1, 2, 0],\n",
       "       [4, 0, 9, 6, 0, 2, 0, 0, 1],\n",
       "       [7, 0, 0, 8, 3, 0, 4, 0, 9],\n",
       "       [0, 1, 0, 5, 4, 9, 0, 0, 0]])"
      ]
     },
     "execution_count": 118,
     "metadata": {},
     "output_type": "execute_result"
    }
   ],
   "source": [
    "sudoku"
   ]
  },
  {
   "cell_type": "code",
   "execution_count": 119,
   "metadata": {},
   "outputs": [
    {
     "name": "stdout",
     "output_type": "stream",
     "text": [
      "[[0 1 0 1 0 1 1 0 0]\n",
      " [1 1 1 0 1 0 1 0 0]\n",
      " [1 0 1 0 0 1 1 0 0]\n",
      " [0 1 1 0 1 1 0 0 0]\n",
      " [0 0 0 0 0 0 0 1 1]\n",
      " [0 1 1 0 1 0 1 1 0]\n",
      " [1 0 1 1 0 1 0 0 1]\n",
      " [1 0 0 1 1 0 1 0 1]\n",
      " [0 1 0 1 1 1 0 0 0]]\n"
     ]
    }
   ],
   "source": [
    "#on_start is array which have 1 in cells filled no start and 0 it cells not filled\n",
    "on_start = np.copy(sudoku)\n",
    "np.place(on_start, on_start>0, [True])\n",
    "print(on_start)\n",
    "#print(sudoku)"
   ]
  },
  {
   "cell_type": "code",
   "execution_count": 120,
   "metadata": {},
   "outputs": [
    {
     "name": "stdout",
     "output_type": "stream",
     "text": [
      "error\n"
     ]
    }
   ],
   "source": [
    "sudoku1 = solve(sudoku, on_start, 0, 0, 1)"
   ]
  },
  {
   "cell_type": "code",
   "execution_count": 121,
   "metadata": {},
   "outputs": [
    {
     "data": {
      "text/plain": [
       "array([[3, 7, 0, 4, 0, 5, 6, 0, 0],\n",
       "       [9, 2, 4, 0, 6, 0, 8, 0, 0],\n",
       "       [1, 0, 5, 0, 0, 8, 7, 0, 0],\n",
       "       [0, 3, 8, 0, 5, 7, 0, 0, 0],\n",
       "       [0, 0, 0, 0, 0, 0, 0, 7, 3],\n",
       "       [0, 4, 7, 0, 9, 0, 1, 2, 0],\n",
       "       [4, 0, 9, 6, 0, 2, 0, 0, 1],\n",
       "       [7, 0, 0, 8, 3, 0, 4, 0, 9],\n",
       "       [0, 1, 0, 5, 4, 9, 0, 0, 0]])"
      ]
     },
     "execution_count": 121,
     "metadata": {},
     "output_type": "execute_result"
    }
   ],
   "source": [
    "sudoku1"
   ]
  },
  {
   "cell_type": "code",
   "execution_count": null,
   "metadata": {},
   "outputs": [],
   "source": []
  }
 ],
 "metadata": {
  "kernelspec": {
   "display_name": "Python 3",
   "language": "python",
   "name": "python3"
  },
  "language_info": {
   "codemirror_mode": {
    "name": "ipython",
    "version": 3
   },
   "file_extension": ".py",
   "mimetype": "text/x-python",
   "name": "python",
   "nbconvert_exporter": "python",
   "pygments_lexer": "ipython3",
   "version": "3.7.3"
  }
 },
 "nbformat": 4,
 "nbformat_minor": 2
}
