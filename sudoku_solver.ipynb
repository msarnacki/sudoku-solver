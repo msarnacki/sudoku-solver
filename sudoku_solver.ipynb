{
 "cells": [
  {
   "cell_type": "code",
   "execution_count": 59,
   "metadata": {},
   "outputs": [],
   "source": [
    "import numpy as np\n",
    "import pandas as pd"
   ]
  },
  {
   "cell_type": "code",
   "execution_count": 123,
   "metadata": {},
   "outputs": [],
   "source": [
    "#sudoku = np.zeros(81,dtype=\"int\").reshape(9,9)\n",
    "\n",
    "sudoku = [[0, 0, 0, 0, 0, 0, 0, 0, 0],\n",
    "          [0, 0, 0, 0, 0, 0, 0, 0, 0],\n",
    "          [0, 0, 0, 0, 0, 0, 0, 0, 0],\n",
    "          [0, 0, 0, 0, 0, 0, 0, 0, 0],\n",
    "          [0, 0, 0, 0, 0, 0, 0, 0, 0],\n",
    "          [0, 0, 0, 0, 0, 0, 0, 0, 0],\n",
    "          [0, 0, 0, 0, 0, 0, 0, 0, 0],\n",
    "          [0, 0, 0, 0, 0, 0, 0, 0, 0],\n",
    "          [0, 0, 0, 0, 0, 0, 0, 0, 0]]\n",
    "\n",
    "sudoku = np.array(sudoku)"
   ]
  },
  {
   "cell_type": "code",
   "execution_count": 111,
   "metadata": {},
   "outputs": [
    {
     "data": {
      "text/plain": [
       "array([[9, 8, 7, 6, 5, 4, 3, 2, 1],\n",
       "       [0, 0, 0, 0, 0, 0, 0, 0, 0],\n",
       "       [0, 0, 0, 0, 0, 0, 0, 0, 0],\n",
       "       [0, 0, 0, 0, 0, 0, 0, 0, 0],\n",
       "       [0, 0, 0, 0, 0, 0, 0, 0, 0],\n",
       "       [0, 0, 0, 0, 0, 0, 0, 0, 0],\n",
       "       [0, 0, 0, 0, 0, 0, 0, 0, 0],\n",
       "       [0, 0, 0, 0, 0, 0, 0, 0, 0],\n",
       "       [0, 0, 0, 0, 0, 0, 0, 0, 0]])"
      ]
     },
     "execution_count": 111,
     "metadata": {},
     "output_type": "execute_result"
    }
   ],
   "source": [
    "#print(sudoku)\n",
    "sudoku"
   ]
  },
  {
   "cell_type": "code",
   "execution_count": 63,
   "metadata": {},
   "outputs": [],
   "source": [
    "#sudoku[1,3] - value from row 1 and col 3\n",
    "#sudoku[:,3] - whole column 3\n",
    "#sudoku[1,:] - whole row 1"
   ]
  },
  {
   "cell_type": "code",
   "execution_count": 121,
   "metadata": {},
   "outputs": [],
   "source": [
    "def if_possible(sudoku, row, col, number):\n",
    "    possible = False\n",
    "    \n",
    "    ##check if number in row\n",
    "    if number not in sudoku[row,:]:\n",
    "        possible = True\n",
    "    else:\n",
    "        return False\n",
    "    \n",
    "    ##check if number in column\n",
    "    if number not in sudoku[:,col]:\n",
    "        possible = True\n",
    "    else:\n",
    "        return False\n",
    "    \n",
    "    ##check if number in squere 3x3\n",
    "    start_sq_row = row // 3 #floor qoutient\n",
    "    # can make it prettier\n",
    "    if start_sq_row == 1:\n",
    "        start_sq_row = 3\n",
    "    elif start_sq_row ==2:\n",
    "        start_sq_row = 6\n",
    "    start_sq_col = col // 3\n",
    "    if start_sq_col == 1:\n",
    "        start_sq_col = 3\n",
    "    elif start_sq_col ==2:\n",
    "        start_sq_col = 6\n",
    "        \n",
    "    end_sq_row = start_sq_row + 3\n",
    "    end_sq_col = start_sq_col + 3\n",
    "    \n",
    "#     print(\"Starting row of squere: {}\".format(start_sq_row))\n",
    "#     print(\"Starting column of squere: {}\".format(start_sq_col))\n",
    "#     print(\"Ending row of squere: {}\".format(end_sq_row))\n",
    "#     print(\"Ending column of squere: {}\".format(end_sq_col))\n",
    "    \n",
    "    if number not in sudoku[start_sq_row:end_sq_row,start_sq_col:end_sq_col]:\n",
    "        possible = True\n",
    "    else:\n",
    "        return False\n",
    "    \n",
    "    return possible"
   ]
  },
  {
   "cell_type": "code",
   "execution_count": 122,
   "metadata": {},
   "outputs": [
    {
     "data": {
      "text/plain": [
       "False"
      ]
     },
     "execution_count": 122,
     "metadata": {},
     "output_type": "execute_result"
    }
   ],
   "source": [
    "## checking if function works\n",
    "#if_possible(sudoku, 1, 6, 1)"
   ]
  },
  {
   "cell_type": "code",
   "execution_count": 126,
   "metadata": {},
   "outputs": [],
   "source": [
    "## just putting in (biggest - for now) possible number in every place\n",
    "# i for rows\n",
    "for i in range(9):\n",
    "    # j for cols\n",
    "    for j in range(9):\n",
    "        # do only if number is 0 \n",
    "        if sudoku[i][j] == 0:\n",
    "            # check all numbers\n",
    "            for n in range(1,10):\n",
    "                # if possible put number there\n",
    "                if if_possible(sudoku, i, j, n) == True:\n",
    "                    sudoku[i][j] = n"
   ]
  },
  {
   "cell_type": "code",
   "execution_count": 127,
   "metadata": {},
   "outputs": [
    {
     "data": {
      "text/plain": [
       "array([[9, 8, 7, 6, 5, 4, 3, 2, 1],\n",
       "       [6, 5, 4, 9, 8, 7, 0, 0, 0],\n",
       "       [3, 2, 1, 0, 0, 0, 9, 8, 7],\n",
       "       [8, 9, 6, 7, 4, 5, 2, 3, 0],\n",
       "       [7, 4, 5, 8, 9, 6, 1, 0, 0],\n",
       "       [2, 3, 0, 1, 0, 0, 8, 9, 6],\n",
       "       [5, 7, 9, 4, 6, 8, 0, 1, 3],\n",
       "       [4, 6, 8, 5, 7, 9, 0, 0, 2],\n",
       "       [1, 0, 3, 2, 0, 0, 7, 6, 9]])"
      ]
     },
     "execution_count": 127,
     "metadata": {},
     "output_type": "execute_result"
    }
   ],
   "source": [
    "sudoku"
   ]
  },
  {
   "cell_type": "code",
   "execution_count": null,
   "metadata": {},
   "outputs": [],
   "source": []
  }
 ],
 "metadata": {
  "kernelspec": {
   "display_name": "Python 3",
   "language": "python",
   "name": "python3"
  },
  "language_info": {
   "codemirror_mode": {
    "name": "ipython",
    "version": 3
   },
   "file_extension": ".py",
   "mimetype": "text/x-python",
   "name": "python",
   "nbconvert_exporter": "python",
   "pygments_lexer": "ipython3",
   "version": "3.7.3"
  }
 },
 "nbformat": 4,
 "nbformat_minor": 2
}
