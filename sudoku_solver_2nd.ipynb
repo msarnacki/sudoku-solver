{
 "cells": [
  {
   "cell_type": "markdown",
   "metadata": {},
   "source": [
    "In this notebook I will make 2nd solving algorithm (see readme) - it isn't done yet"
   ]
  },
  {
   "cell_type": "code",
   "execution_count": 1,
   "metadata": {},
   "outputs": [],
   "source": [
    "import numpy as np\n",
    "import threading\n",
    "import sys"
   ]
  },
  {
   "cell_type": "code",
   "execution_count": 2,
   "metadata": {},
   "outputs": [],
   "source": [
    "#sudoku = np.zeros(81,dtype=\"int\").reshape(9,9)\n",
    "def clear_sudoku():\n",
    "    sudoku = [[0, 0, 0, 0, 0, 0, 0, 0, 0],\n",
    "              [0, 0, 0, 0, 0, 0, 0, 0, 0],\n",
    "              [0, 0, 0, 0, 0, 0, 0, 0, 0],\n",
    "              [0, 0, 0, 0, 0, 0, 0, 0, 0],\n",
    "              [0, 0, 0, 0, 0, 0, 0, 0, 0],\n",
    "              [0, 0, 0, 0, 0, 0, 0, 0, 0],\n",
    "              [0, 0, 0, 0, 0, 0, 0, 0, 0],\n",
    "              [0, 0, 0, 0, 0, 0, 0, 0, 0],\n",
    "              [0, 0, 0, 0, 0, 0, 0, 0, 0]]\n",
    "\n",
    "    sudoku = np.array(sudoku)\n",
    "    return sudoku"
   ]
  },
  {
   "cell_type": "code",
   "execution_count": 3,
   "metadata": {},
   "outputs": [],
   "source": [
    "def example_easy_sudoku():\n",
    "    sudoku = [[0, 7, 0, 4, 0, 5, 6, 0, 0],\n",
    "              [9, 2, 4, 0, 6, 0, 8, 0, 0],\n",
    "              [1, 0, 5, 0, 0, 8, 7, 0, 0],\n",
    "              [0, 3, 8, 0, 5, 7, 0, 0, 0],\n",
    "              [0, 0, 0, 0, 0, 0, 0, 7, 3],\n",
    "              [0, 4, 7, 0, 9, 0, 1, 2, 0],\n",
    "              [4, 0, 9, 6, 0, 2, 0, 0, 1],\n",
    "              [7, 0, 0, 8, 3, 0, 4, 0, 9],\n",
    "              [0, 1, 0, 5, 4, 9, 0, 0, 0]]\n",
    "\n",
    "    sudoku = np.array(sudoku)\n",
    "    return sudoku"
   ]
  },
  {
   "cell_type": "code",
   "execution_count": 4,
   "metadata": {},
   "outputs": [],
   "source": [
    "def example_hard_sudoku():\n",
    "    sudoku = [[8, 3, 2, 1, 0, 7, 0, 9, 6],\n",
    "              [0, 0, 0, 0, 0, 0, 0, 5, 0],\n",
    "              [7, 4, 5, 0, 9, 0, 0, 0, 0],\n",
    "              [0, 0, 0, 0, 0, 0, 0, 0, 7],\n",
    "              [0, 0, 0, 8, 0, 1, 0, 0, 0],\n",
    "              [0, 0, 4, 0, 0, 0, 5, 0, 1],\n",
    "              [3, 0, 0, 0, 0, 5, 0, 6, 2],\n",
    "              [0, 6, 0, 0, 0, 8, 0, 0, 4],\n",
    "              [0, 0, 0, 7, 0, 3, 0, 8, 0]]\n",
    "\n",
    "    sudoku = np.array(sudoku)\n",
    "    return sudoku"
   ]
  },
  {
   "cell_type": "code",
   "execution_count": 5,
   "metadata": {},
   "outputs": [],
   "source": [
    "def example_very_hard_sudoku():\n",
    "    sudoku = [[3, 7, 0, 0, 0, 0, 0, 9, 0],\n",
    "              [9, 0, 0, 0, 7, 0, 0, 0, 0],\n",
    "              [0, 0, 0, 4, 2, 0, 0, 0, 6],\n",
    "              [0, 0, 1, 0, 8, 4, 2, 0, 0],\n",
    "              [0, 0, 0, 0, 0, 0, 0, 0, 0],\n",
    "              [8, 0, 0, 6, 0, 0, 0, 5, 0],\n",
    "              [0, 0, 6, 0, 0, 2, 0, 1, 0],\n",
    "              [0, 0, 0, 0, 0, 0, 0, 3, 9],\n",
    "              [0, 2, 0, 0, 0, 0, 4, 0, 0]]\n",
    "\n",
    "    sudoku = np.array(sudoku)\n",
    "    return sudoku"
   ]
  },
  {
   "cell_type": "code",
   "execution_count": 6,
   "metadata": {},
   "outputs": [],
   "source": [
    "#sudoku[1,3] - value from row 1 and col 3\n",
    "#sudoku[:,3] - whole column 3\n",
    "#sudoku[1,:] - whole row 1"
   ]
  },
  {
   "cell_type": "code",
   "execution_count": 7,
   "metadata": {},
   "outputs": [],
   "source": [
    "def if_possible(sudoku, row, col, number):\n",
    "    possible = False\n",
    "    \n",
    "    ##check if number in row\n",
    "    if number not in sudoku[row,:]:\n",
    "        possible = True\n",
    "    else:\n",
    "        return False\n",
    "    \n",
    "    ##check if number in column\n",
    "    if number not in sudoku[:,col]:\n",
    "        possible = True\n",
    "    else:\n",
    "        return False\n",
    "    \n",
    "    ##check if number in squere 3x3\n",
    "    start_sq_row = row // 3 #floor qoutient\n",
    "    # can make it prettier\n",
    "    if start_sq_row == 1:\n",
    "        start_sq_row = 3\n",
    "    elif start_sq_row ==2:\n",
    "        start_sq_row = 6\n",
    "    start_sq_col = col // 3\n",
    "    if start_sq_col == 1:\n",
    "        start_sq_col = 3\n",
    "    elif start_sq_col ==2:\n",
    "        start_sq_col = 6\n",
    "        \n",
    "    end_sq_row = start_sq_row + 3\n",
    "    end_sq_col = start_sq_col + 3\n",
    "    \n",
    "#     print(\"Starting row of squere: {}\".format(start_sq_row))\n",
    "#     print(\"Starting column of squere: {}\".format(start_sq_col))\n",
    "#     print(\"Ending row of squere: {}\".format(end_sq_row))\n",
    "#     print(\"Ending column of squere: {}\".format(end_sq_col))\n",
    "    \n",
    "    if number not in sudoku[start_sq_row:end_sq_row,start_sq_col:end_sq_col]:\n",
    "        possible = True\n",
    "    else:\n",
    "        return False\n",
    "    \n",
    "    return possible"
   ]
  },
  {
   "cell_type": "code",
   "execution_count": 8,
   "metadata": {},
   "outputs": [],
   "source": [
    "## checking if function works\n",
    "#if_possible(sudoku, 1, 6, 1)"
   ]
  },
  {
   "cell_type": "code",
   "execution_count": 9,
   "metadata": {},
   "outputs": [],
   "source": [
    "###\n",
    "# pierwsze wywolanie: \n",
    "# sudoku = sudoku\n",
    "# safe_cells = on_start\n",
    "# rec = 1\n",
    "#\n",
    "# sprawdzanie kazdej komórki \n",
    "#\n",
    "# sudoku jest aktualizowane co krok o te pozycje które są pewne\n",
    "# safe_cells są rozszerzane o te pozycje które są pewne\n",
    "# rec powiększane o 1"
   ]
  },
  {
   "cell_type": "code",
   "execution_count": 10,
   "metadata": {},
   "outputs": [],
   "source": [
    "#first try - without go back\n",
    "def solve(sudoku, safe_cells, rec):\n",
    "    if rec % 10 == 0:\n",
    "        print(\"Recursion: {}\".format(rec))\n",
    "        \n",
    "    for i in range(9):\n",
    "        for j in range(9):\n",
    "            if safe_cells[i][j] == 0:\n",
    "                count = 0\n",
    "                num = None\n",
    "            \n",
    "                for n in range(1,10):\n",
    "                    if if_possible(sudoku, i, j, n) == True:\n",
    "                        count = count + 1\n",
    "                        # if there will be only one possible it will be placed in next if statement\n",
    "                        num = n  \n",
    "\n",
    "                if count == 1:\n",
    "                    sudoku[i][j] = num\n",
    "                    safe_cells[i][j] = 1\n",
    "    if safe_cells.sum() == 81:\n",
    "        return sudoku\n",
    "    else:\n",
    "        return solve(sudoku, safe_cells, rec+1)"
   ]
  },
  {
   "cell_type": "code",
   "execution_count": 31,
   "metadata": {},
   "outputs": [],
   "source": [
    "#second try - with go back\n",
    "def solve(sudoku, safe_cells, rec):\n",
    "    if rec % 10 == 0:\n",
    "        print(\"Recursion: {}\".format(rec))\n",
    "        \n",
    "    count_table = np.zeros(81,dtype=\"int\").reshape(9,9)\n",
    "        \n",
    "    for i in range(9):\n",
    "        for j in range(9):\n",
    "            if safe_cells[i][j] == 0:\n",
    "                count = 0\n",
    "                num = None\n",
    "                \n",
    "                for n in range(1,10):\n",
    "                    if if_possible(sudoku, i, j, n) == True:\n",
    "                        count = count + 1\n",
    "                        num = n\n",
    "                \n",
    "                count_table[i][j] = count\n",
    "\n",
    "                # if there will be 1 possiblity it will be put in cell\n",
    "                if count == 1:\n",
    "                    sudoku[i][j] = num\n",
    "                    safe_cells[i][j] = 1\n",
    "    \n",
    "    #if there won't be only 1 possibility in any cell do algorithm to put one of possibilities and go on and then go back at some point\n",
    "    if 1 not in count_table:    \n",
    "        pass\n",
    "    \n",
    "    if safe_cells.sum() == 81:\n",
    "        return sudoku\n",
    "    else:\n",
    "        return solve(sudoku, safe_cells, rec+1)"
   ]
  },
  {
   "cell_type": "code",
   "execution_count": null,
   "metadata": {},
   "outputs": [],
   "source": []
  },
  {
   "cell_type": "code",
   "execution_count": 25,
   "metadata": {},
   "outputs": [],
   "source": [
    "#sudoku = clear_sudoku()\n",
    "sudoku = example_easy_sudoku()\n",
    "#sudoku = example_hard_sudoku() #works with threading\n",
    "#sudoku = example_very_hard_sudoku() #doesn't work for now"
   ]
  },
  {
   "cell_type": "code",
   "execution_count": 26,
   "metadata": {},
   "outputs": [
    {
     "data": {
      "text/plain": [
       "array([[0, 7, 0, 4, 0, 5, 6, 0, 0],\n",
       "       [9, 2, 4, 0, 6, 0, 8, 0, 0],\n",
       "       [1, 0, 5, 0, 0, 8, 7, 0, 0],\n",
       "       [0, 3, 8, 0, 5, 7, 0, 0, 0],\n",
       "       [0, 0, 0, 0, 0, 0, 0, 7, 3],\n",
       "       [0, 4, 7, 0, 9, 0, 1, 2, 0],\n",
       "       [4, 0, 9, 6, 0, 2, 0, 0, 1],\n",
       "       [7, 0, 0, 8, 3, 0, 4, 0, 9],\n",
       "       [0, 1, 0, 5, 4, 9, 0, 0, 0]])"
      ]
     },
     "execution_count": 26,
     "metadata": {},
     "output_type": "execute_result"
    }
   ],
   "source": [
    "sudoku"
   ]
  },
  {
   "cell_type": "code",
   "execution_count": 27,
   "metadata": {},
   "outputs": [
    {
     "name": "stdout",
     "output_type": "stream",
     "text": [
      "[[0 1 0 1 0 1 1 0 0]\n",
      " [1 1 1 0 1 0 1 0 0]\n",
      " [1 0 1 0 0 1 1 0 0]\n",
      " [0 1 1 0 1 1 0 0 0]\n",
      " [0 0 0 0 0 0 0 1 1]\n",
      " [0 1 1 0 1 0 1 1 0]\n",
      " [1 0 1 1 0 1 0 0 1]\n",
      " [1 0 0 1 1 0 1 0 1]\n",
      " [0 1 0 1 1 1 0 0 0]]\n"
     ]
    }
   ],
   "source": [
    "#on_start is array which have 1 in cells filled no start and 0 it cells not filled\n",
    "on_start = np.copy(sudoku)\n",
    "np.place(on_start, on_start>0, [True])\n",
    "print(on_start)\n",
    "#print(sudoku)"
   ]
  },
  {
   "cell_type": "code",
   "execution_count": 28,
   "metadata": {},
   "outputs": [
    {
     "data": {
      "text/plain": [
       "38"
      ]
     },
     "execution_count": 28,
     "metadata": {},
     "output_type": "execute_result"
    }
   ],
   "source": [
    "on_start.sum()"
   ]
  },
  {
   "cell_type": "code",
   "execution_count": 30,
   "metadata": {},
   "outputs": [
    {
     "name": "stdout",
     "output_type": "stream",
     "text": [
      "33.4 µs ± 226 ns per loop (mean ± std. dev. of 7 runs, 10000 loops each)\n"
     ]
    }
   ],
   "source": [
    "%%timeit\n",
    "solve(sudoku,on_start,1)"
   ]
  },
  {
   "cell_type": "code",
   "execution_count": 24,
   "metadata": {},
   "outputs": [
    {
     "ename": "NameError",
     "evalue": "name 'sud' is not defined",
     "output_type": "error",
     "traceback": [
      "\u001b[1;31m---------------------------------------------------------------------------\u001b[0m",
      "\u001b[1;31mNameError\u001b[0m                                 Traceback (most recent call last)",
      "\u001b[1;32m<ipython-input-24-f535b4b06bf4>\u001b[0m in \u001b[0;36m<module>\u001b[1;34m\u001b[0m\n\u001b[1;32m----> 1\u001b[1;33m \u001b[0mprint\u001b[0m\u001b[1;33m(\u001b[0m\u001b[0msud\u001b[0m\u001b[1;33m)\u001b[0m\u001b[1;33m\u001b[0m\u001b[1;33m\u001b[0m\u001b[0m\n\u001b[0m",
      "\u001b[1;31mNameError\u001b[0m: name 'sud' is not defined"
     ]
    }
   ],
   "source": [
    "print(sud)"
   ]
  },
  {
   "cell_type": "code",
   "execution_count": 15,
   "metadata": {},
   "outputs": [],
   "source": [
    "# for easier sudoku\n",
    "#%%time\n",
    "#sudoku = solve(sudoku, on_start, 0, 0, 1, go_back=False, rec=0)"
   ]
  },
  {
   "cell_type": "code",
   "execution_count": 16,
   "metadata": {},
   "outputs": [
    {
     "data": {
      "text/plain": [
       "array([[0, 0, 0, 0, 0, 0, 0, 0, 0],\n",
       "       [0, 0, 0, 0, 0, 0, 0, 0, 0],\n",
       "       [0, 0, 0, 0, 0, 0, 0, 0, 0],\n",
       "       [0, 0, 0, 0, 0, 0, 0, 0, 0],\n",
       "       [0, 0, 0, 0, 0, 0, 0, 0, 0],\n",
       "       [0, 0, 0, 0, 0, 0, 0, 0, 0],\n",
       "       [0, 0, 0, 0, 0, 0, 0, 0, 0],\n",
       "       [0, 0, 0, 0, 0, 0, 0, 0, 0],\n",
       "       [0, 0, 0, 0, 0, 0, 0, 0, 0]])"
      ]
     },
     "execution_count": 16,
     "metadata": {},
     "output_type": "execute_result"
    }
   ],
   "source": [
    "sudoku"
   ]
  },
  {
   "cell_type": "code",
   "execution_count": 17,
   "metadata": {},
   "outputs": [],
   "source": [
    "threading.stack_size(67108864) # 64MB stack\n",
    "sys.setrecursionlimit(2 ** 20) # something real big\n",
    "                               # you actually hit the 64MB limit first\n",
    "                               # going by other answers, could just use 2**32-1"
   ]
  },
  {
   "cell_type": "code",
   "execution_count": 18,
   "metadata": {},
   "outputs": [
    {
     "name": "stdout",
     "output_type": "stream",
     "text": [
      "Recursion: 0\n",
      "Recursion: 1000\n",
      "Recursion: 2000\n",
      "Recursion: 3000\n",
      "Recursion: 3437\n"
     ]
    }
   ],
   "source": [
    "# for harder sudoku\n",
    "#%%time\n",
    "# only new threads get the redefined stack size\n",
    "thread = threading.Thread(target=solve, args = (sudoku, on_start, 0, 0, 1, False, 0, ))\n",
    "thread.start()"
   ]
  },
  {
   "cell_type": "code",
   "execution_count": 19,
   "metadata": {},
   "outputs": [
    {
     "data": {
      "text/plain": [
       "array([[1, 2, 3, 4, 5, 6, 7, 8, 9],\n",
       "       [4, 5, 6, 7, 8, 9, 1, 2, 3],\n",
       "       [7, 8, 9, 1, 2, 3, 4, 5, 6],\n",
       "       [2, 1, 4, 3, 6, 5, 8, 9, 7],\n",
       "       [3, 6, 5, 8, 9, 7, 2, 1, 4],\n",
       "       [8, 9, 7, 2, 1, 4, 3, 6, 5],\n",
       "       [5, 3, 1, 6, 4, 2, 9, 7, 8],\n",
       "       [6, 4, 2, 9, 7, 8, 5, 3, 1],\n",
       "       [9, 7, 8, 5, 3, 1, 6, 4, 2]])"
      ]
     },
     "execution_count": 19,
     "metadata": {},
     "output_type": "execute_result"
    }
   ],
   "source": [
    "sudoku"
   ]
  },
  {
   "cell_type": "code",
   "execution_count": null,
   "metadata": {},
   "outputs": [],
   "source": []
  }
 ],
 "metadata": {
  "kernelspec": {
   "display_name": "Python 3",
   "language": "python",
   "name": "python3"
  },
  "language_info": {
   "codemirror_mode": {
    "name": "ipython",
    "version": 3
   },
   "file_extension": ".py",
   "mimetype": "text/x-python",
   "name": "python",
   "nbconvert_exporter": "python",
   "pygments_lexer": "ipython3",
   "version": "3.7.3"
  }
 },
 "nbformat": 4,
 "nbformat_minor": 2
}
