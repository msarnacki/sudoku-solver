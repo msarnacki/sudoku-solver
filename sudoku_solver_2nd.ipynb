{
 "cells": [
  {
   "cell_type": "markdown",
   "metadata": {},
   "source": [
    "In this notebook I will make 2nd solving algorithm (see readme) - it isn't done yet"
   ]
  },
  {
   "cell_type": "code",
   "execution_count": 1,
   "metadata": {},
   "outputs": [],
   "source": [
    "import numpy as np\n",
    "import threading\n",
    "import sys"
   ]
  },
  {
   "cell_type": "code",
   "execution_count": 2,
   "metadata": {},
   "outputs": [],
   "source": [
    "#sudoku = np.zeros(81,dtype=\"int\").reshape(9,9)\n",
    "def clear_sudoku():\n",
    "    sudoku = [[0, 0, 0, 0, 0, 0, 0, 0, 0],\n",
    "              [0, 0, 0, 0, 0, 0, 0, 0, 0],\n",
    "              [0, 0, 0, 0, 0, 0, 0, 0, 0],\n",
    "              [0, 0, 0, 0, 0, 0, 0, 0, 0],\n",
    "              [0, 0, 0, 0, 0, 0, 0, 0, 0],\n",
    "              [0, 0, 0, 0, 0, 0, 0, 0, 0],\n",
    "              [0, 0, 0, 0, 0, 0, 0, 0, 0],\n",
    "              [0, 0, 0, 0, 0, 0, 0, 0, 0],\n",
    "              [0, 0, 0, 0, 0, 0, 0, 0, 0]]\n",
    "\n",
    "    sudoku = np.array(sudoku)\n",
    "    return sudoku"
   ]
  },
  {
   "cell_type": "code",
   "execution_count": 3,
   "metadata": {},
   "outputs": [],
   "source": [
    "def example_easy_sudoku():\n",
    "    sudoku = [[0, 7, 0, 4, 0, 5, 6, 0, 0],\n",
    "              [9, 2, 4, 0, 6, 0, 8, 0, 0],\n",
    "              [1, 0, 5, 0, 0, 8, 7, 0, 0],\n",
    "              [0, 3, 8, 0, 5, 7, 0, 0, 0],\n",
    "              [0, 0, 0, 0, 0, 0, 0, 7, 3],\n",
    "              [0, 4, 7, 0, 9, 0, 1, 2, 0],\n",
    "              [4, 0, 9, 6, 0, 2, 0, 0, 1],\n",
    "              [7, 0, 0, 8, 3, 0, 4, 0, 9],\n",
    "              [0, 1, 0, 5, 4, 9, 0, 0, 0]]\n",
    "\n",
    "    sudoku = np.array(sudoku)\n",
    "    return sudoku"
   ]
  },
  {
   "cell_type": "code",
   "execution_count": 4,
   "metadata": {},
   "outputs": [],
   "source": [
    "def example_hard_sudoku():\n",
    "    sudoku = [[8, 3, 2, 1, 0, 7, 0, 9, 6],\n",
    "              [0, 0, 0, 0, 0, 0, 0, 5, 0],\n",
    "              [7, 4, 5, 0, 9, 0, 0, 0, 0],\n",
    "              [0, 0, 0, 0, 0, 0, 0, 0, 7],\n",
    "              [0, 0, 0, 8, 0, 1, 0, 0, 0],\n",
    "              [0, 0, 4, 0, 0, 0, 5, 0, 1],\n",
    "              [3, 0, 0, 0, 0, 5, 0, 6, 2],\n",
    "              [0, 6, 0, 0, 0, 8, 0, 0, 4],\n",
    "              [0, 0, 0, 7, 0, 3, 0, 8, 0]]\n",
    "\n",
    "    sudoku = np.array(sudoku)\n",
    "    return sudoku"
   ]
  },
  {
   "cell_type": "code",
   "execution_count": 5,
   "metadata": {},
   "outputs": [],
   "source": [
    "def example_very_hard_sudoku():\n",
    "    sudoku = [[3, 7, 0, 0, 0, 0, 0, 9, 0],\n",
    "              [9, 0, 0, 0, 7, 0, 0, 0, 0],\n",
    "              [0, 0, 0, 4, 2, 0, 0, 0, 6],\n",
    "              [0, 0, 1, 0, 8, 4, 2, 0, 0],\n",
    "              [0, 0, 0, 0, 0, 0, 0, 0, 0],\n",
    "              [8, 0, 0, 6, 0, 0, 0, 5, 0],\n",
    "              [0, 0, 6, 0, 0, 2, 0, 1, 0],\n",
    "              [0, 0, 0, 0, 0, 0, 0, 3, 9],\n",
    "              [0, 2, 0, 0, 0, 0, 4, 0, 0]]\n",
    "\n",
    "    sudoku = np.array(sudoku)\n",
    "    return sudoku"
   ]
  },
  {
   "cell_type": "code",
   "execution_count": 6,
   "metadata": {},
   "outputs": [],
   "source": [
    "#sudoku[1,3] - value from row 1 and col 3\n",
    "#sudoku[:,3] - whole column 3\n",
    "#sudoku[1,:] - whole row 1"
   ]
  },
  {
   "cell_type": "code",
   "execution_count": 7,
   "metadata": {},
   "outputs": [],
   "source": [
    "def if_possible(sudoku, row, col, number):\n",
    "    possible = False\n",
    "    \n",
    "    ##check if number in row\n",
    "    if number not in sudoku[row,:]:\n",
    "        possible = True\n",
    "    else:\n",
    "        return False\n",
    "    \n",
    "    ##check if number in column\n",
    "    if number not in sudoku[:,col]:\n",
    "        possible = True\n",
    "    else:\n",
    "        return False\n",
    "    \n",
    "    ##check if number in squere 3x3\n",
    "    start_sq_row = row // 3 #floor qoutient\n",
    "    # can make it prettier\n",
    "    if start_sq_row == 1:\n",
    "        start_sq_row = 3\n",
    "    elif start_sq_row ==2:\n",
    "        start_sq_row = 6\n",
    "    start_sq_col = col // 3\n",
    "    if start_sq_col == 1:\n",
    "        start_sq_col = 3\n",
    "    elif start_sq_col ==2:\n",
    "        start_sq_col = 6\n",
    "        \n",
    "    end_sq_row = start_sq_row + 3\n",
    "    end_sq_col = start_sq_col + 3\n",
    "    \n",
    "#     print(\"Starting row of squere: {}\".format(start_sq_row))\n",
    "#     print(\"Starting column of squere: {}\".format(start_sq_col))\n",
    "#     print(\"Ending row of squere: {}\".format(end_sq_row))\n",
    "#     print(\"Ending column of squere: {}\".format(end_sq_col))\n",
    "    \n",
    "    if number not in sudoku[start_sq_row:end_sq_row,start_sq_col:end_sq_col]:\n",
    "        possible = True\n",
    "    else:\n",
    "        return False\n",
    "    \n",
    "    return possible"
   ]
  },
  {
   "cell_type": "code",
   "execution_count": 8,
   "metadata": {},
   "outputs": [],
   "source": [
    "## checking if function works\n",
    "#if_possible(sudoku, 1, 6, 1)"
   ]
  },
  {
   "cell_type": "code",
   "execution_count": 9,
   "metadata": {},
   "outputs": [],
   "source": [
    "## just putting in (biggest - for now) possible number in every place\n",
    "\n",
    "# i for rows\n",
    "# for i in range(9):\n",
    "#     # j for cols\n",
    "#     for j in range(9):\n",
    "#         # do only if number is 0 \n",
    "#         if sudoku[i][j] == 0:\n",
    "#             # check all numbers\n",
    "#             for n in range(1,10):\n",
    "#                 # if possible put number there\n",
    "#                 if if_possible(sudoku, i, j, n) == True:\n",
    "#                     sudoku[i][j] = n"
   ]
  },
  {
   "cell_type": "code",
   "execution_count": 10,
   "metadata": {},
   "outputs": [],
   "source": [
    "def restart_next_cells(sudoku, on_start, row, col):\n",
    "    for i in range(row,9):\n",
    "        for j in range(9):\n",
    "            if on_start[i][j] == 0:\n",
    "                if i == row:\n",
    "                    if j >= col:\n",
    "                        sudoku[i][j] = 0\n",
    "                else:\n",
    "                    sudoku[i][j] = 0\n",
    "    return sudoku"
   ]
  },
  {
   "cell_type": "code",
   "execution_count": 11,
   "metadata": {},
   "outputs": [],
   "source": [
    "## recursive function solving sudoku\n",
    "# args: sudoku in actual state, row and col that is checked (and filled), number that is checked in this step\n",
    "def solve(sudoku, on_start, row, col, number, go_back,rec):\n",
    "    if rec % 1000 == 0:\n",
    "        print(\"Recursion: {}\".format(rec))\n",
    "    #if going back and number wasn't filled on start\n",
    "    if go_back == True and on_start[row][col] == 0:\n",
    "        #increment number \n",
    "        number = sudoku[row][col] + 1\n",
    "        #if number > 9 error\n",
    "        if number > 9:\n",
    "            #INSTEAD OF ERROR NOW I NEED TO PUT HERE MECHANISM THAT WILL GO BACK AND \n",
    "            #TRY TO PUT ANOTHER POSSIBLE NUMBER IN PREVIOUS CELL THAT WASN'T FILLED ON START\n",
    "            #WILL DO IT USING ON_START VARIABLE\n",
    "            #print(\"need to go back\")\n",
    "            sudoku = restart_next_cells(sudoku, on_start, row, col)\n",
    "            if col == 0:\n",
    "                if row == 0:\n",
    "                    #print(\"error - can't go back\")\n",
    "                    #print(\"return sudoku\")\n",
    "                    print(\"Recursion: {}\".format(rec))\n",
    "                    return sudoku\n",
    "                else:\n",
    "                    col = 8\n",
    "                    row = row - 1\n",
    "            else:\n",
    "                col = col - 1\n",
    "            \n",
    "            #print(\"return solve(sudoku = {}, row = {}, col = {}, number = {}, go_back = {}\".format(sudoku,row,col,0,True))\n",
    "            return solve(sudoku, on_start, row, col, 0, go_back=True,rec = rec + 1)\n",
    "        #if number <= 9 check if possible and put number in cell \n",
    "        else:\n",
    "            #if possible to put there number incremented \n",
    "            if_possib = if_possible(sudoku, row, col, number)\n",
    "            if if_possib == True:\n",
    "                #put number in cell\n",
    "                sudoku[row][col] = number\n",
    "                #####\n",
    "                #if last column\n",
    "                if col == 8:\n",
    "                    #if last row\n",
    "                    if row == 8:\n",
    "                        #we are in last cell and it is not equal to 0 -> return sudoku\n",
    "                        #print(\"return sudoku\")\n",
    "                        print(\"Recursion: {}\".format(rec))\n",
    "                        return sudoku\n",
    "                    #if not last row\n",
    "                    else:\n",
    "                        #go to firs (0) column and next row\n",
    "                        col = 0\n",
    "                        row = row + 1\n",
    "                #if not last column\n",
    "                else:\n",
    "                    #go to next column and stay in same row\n",
    "                    col = col + 1\n",
    "                #GO TO NEXT CELL #recursive solve with actual state of sudoku, changed row and col and number 1 - because checking values in new cell starts from 1\n",
    "                #print(\"return solve(sudoku = {}, row = {}, col = {}, number = {}, go_back = {}\".format(sudoku,row,col,1,False))\n",
    "                return solve(sudoku, on_start, row, col, 1, go_back=False,rec = rec + 1)\n",
    "                #####\n",
    "            else:\n",
    "                #if number is 9 - error\n",
    "                if number > 9:\n",
    "                    #INSTEAD OF ERROR NOW I NEED TO PUT HERE MECHANISM THAT WILL GO BACK AND \n",
    "                    #TRY TO PUT ANOTHER POSSIBLE NUMBER IN PREVIOUS CELL THAT WASN'T FILLED ON START\n",
    "                    #WILL DO IT USING ON_START VARIABLE\n",
    "                    #print(\"need to go back\")\n",
    "                    sudoku = restart_next_cells(sudoku, on_start, row, col)\n",
    "                    if col == 0:\n",
    "                        if row == 0:\n",
    "                            #print(\"error - can't go back\")\n",
    "                            #print(\"return sudoku\")\n",
    "                            print(\"Recursion: {}\".format(rec))\n",
    "                            return sudoku\n",
    "                        else:\n",
    "                            col = 8\n",
    "                            row = row - 1\n",
    "                    else:\n",
    "                        col = col - 1\n",
    "                    #print(\"return solve(sudoku = {}, row = {}, col = {}, number = {}, go_back = {}\".format(sudoku,row,col,0,True))\n",
    "                    return solve(sudoku, on_start, row, col, 0, go_back=True,rec = rec + 1)\n",
    "                #if number is not 9 (less than 9) recursive solve with number = number + 1\n",
    "                else:\n",
    "                    #print(\"return solve(sudoku = {}, row = {}, col = {}, number = {}, go_back = {}\".format(sudoku,row,col,number,False))\n",
    "                    return solve(sudoku, on_start, row, col, number, go_back=False,rec = rec + 1)\n",
    "    #when going back cell filled on start just go back\n",
    "    elif go_back == True and on_start[row][col]==1:\n",
    "        if col == 0:\n",
    "            if row == 0:\n",
    "                #print(\"error - can't go back\")\n",
    "                #print(\"return sudoku\")\n",
    "                print(\"Recursion: {}\".format(rec))\n",
    "                return sudoku\n",
    "            else:\n",
    "                col = 8\n",
    "                row = row - 1\n",
    "        else:\n",
    "            col = col - 1\n",
    "        #print(\"return solve(sudoku = {}, row = {}, col = {}, number = {}, go_back = {}\".format(sudoku,row,col,0,True))\n",
    "        return solve(sudoku, on_start, row, col, 0, go_back=True,rec = rec + 1)\n",
    "    #if not going back\n",
    "    elif go_back == False:\n",
    "        #if cell = 0 then start checking possibilities\n",
    "        if on_start[row][col] == 0:\n",
    "            if_possib = if_possible(sudoku, row, col, number)\n",
    "            #if possible to put number in cell - put number in that cell\n",
    "            if if_possib == True:\n",
    "                sudoku[row][col] = number\n",
    "                #####\n",
    "                #if last column\n",
    "                if col == 8:\n",
    "                    #if last row\n",
    "                    if row == 8:\n",
    "                        #we are in last cell and it is not equal to 0 -> return sudoku\n",
    "                        #print(\"return sudoku\")\n",
    "                        print(\"Recursion: {}\".format(rec))\n",
    "                        return sudoku\n",
    "                    #if not last row\n",
    "                    else:\n",
    "                        #go to firs (0) column and next row\n",
    "                        col = 0\n",
    "                        row = row + 1\n",
    "                #if not last column\n",
    "                else:\n",
    "                    #go to next column and stay in same row\n",
    "                    col = col + 1\n",
    "                #GO TO NEXT CELL #recursive solve with actual state of sudoku, changed row and col and number 1 - because checking values in new cell starts from 1\n",
    "                #print(\"return solve(sudoku = {}, row = {}, col = {}, number = {}, go_back = {}\".format(sudoku,row,col,1,False))\n",
    "                return solve(sudoku, on_start, row, col, 1, go_back=False,rec = rec + 1)\n",
    "                #####\n",
    "            #if not possible to put number in cell\n",
    "            else:\n",
    "                #if number is 9 - error\n",
    "                if number == 9:\n",
    "                    #INSTEAD OF ERROR NOW I NEED TO PUT HERE MECHANISM THAT WILL GO BACK AND \n",
    "                    #TRY TO PUT ANOTHER POSSIBLE NUMBER IN PREVIOUS CELL THAT WASN'T FILLED ON START\n",
    "                    #WILL DO IT USING ON_START VARIABLE\n",
    "                    #print(\"need to go back\")\n",
    "                    sudoku = restart_next_cells(sudoku, on_start, row, col)\n",
    "                    if col == 0:\n",
    "                        if row == 0:\n",
    "                            #print(\"error - can't go back\")\n",
    "                            #print(\"return sudoku\")\n",
    "                            print(\"Recursion: {}\".format(rec))\n",
    "                            return sudoku\n",
    "                        else:\n",
    "                            col = 8\n",
    "                            row = row - 1\n",
    "                    else:\n",
    "                        col = col - 1\n",
    "                    #print(\"return solve(sudoku = {}, row = {}, col = {}, number = {}, go_back = {}\".format(sudoku,row,col,0,True))\n",
    "                    return solve(sudoku, on_start, row, col, 0, go_back=True,rec = rec + 1)\n",
    "                #if number is not 9 (less than 9) recursive solve with number = number + 1\n",
    "                else:\n",
    "                    #print(\"return solve(sudoku = {}, row = {}, col = {}, number = {}, go_back = {}\".format(sudoku,row,col,number + 1,False))\n",
    "                    return solve(sudoku, on_start, row, col, number + 1, go_back=False,rec = rec + 1)\n",
    "        #if cell != 0 then don't check possibilities\n",
    "        else:\n",
    "            #####\n",
    "            #if last column\n",
    "            if col == 8:\n",
    "                #if last row\n",
    "                if row == 8:\n",
    "                    #we are in last cell and it is not equal to 0 -> return sudoku\n",
    "                    #print(\"return sudoku\")\n",
    "                    print(\"Recursion: {}\".format(rec))\n",
    "                    return sudoku\n",
    "                #if not last row\n",
    "                else:\n",
    "                    #go to firs (0) column and next row\n",
    "                    col = 0\n",
    "                    row = row + 1\n",
    "            #if not last column\n",
    "            else:\n",
    "                #go to next column and stay in same row\n",
    "                col = col + 1\n",
    "            #GO TO NEXT CELL #recursive solve with actual state of sudoku, changed row and col and number 1 - because checking values in new cell starts from 1\n",
    "            #print(\"return solve(sudoku = {}, row = {}, col = {}, number = {}, go_back = {}\".format(sudoku,row,col,1,False))\n",
    "            return solve(sudoku, on_start, row, col, 1, go_back=False,rec = rec + 1)\n",
    "            #####\n",
    "    \n",
    "    "
   ]
  },
  {
   "cell_type": "code",
   "execution_count": null,
   "metadata": {},
   "outputs": [],
   "source": []
  },
  {
   "cell_type": "code",
   "execution_count": null,
   "metadata": {},
   "outputs": [],
   "source": []
  },
  {
   "cell_type": "code",
   "execution_count": 12,
   "metadata": {},
   "outputs": [],
   "source": [
    "sudoku = clear_sudoku()\n",
    "#sudoku = example_easy_sudoku()\n",
    "#sudoku = example_hard_sudoku() #works with threading\n",
    "#sudoku = example_very_hard_sudoku() #doesn't work for now"
   ]
  },
  {
   "cell_type": "code",
   "execution_count": 13,
   "metadata": {},
   "outputs": [
    {
     "data": {
      "text/plain": [
       "array([[0, 0, 0, 0, 0, 0, 0, 0, 0],\n",
       "       [0, 0, 0, 0, 0, 0, 0, 0, 0],\n",
       "       [0, 0, 0, 0, 0, 0, 0, 0, 0],\n",
       "       [0, 0, 0, 0, 0, 0, 0, 0, 0],\n",
       "       [0, 0, 0, 0, 0, 0, 0, 0, 0],\n",
       "       [0, 0, 0, 0, 0, 0, 0, 0, 0],\n",
       "       [0, 0, 0, 0, 0, 0, 0, 0, 0],\n",
       "       [0, 0, 0, 0, 0, 0, 0, 0, 0],\n",
       "       [0, 0, 0, 0, 0, 0, 0, 0, 0]])"
      ]
     },
     "execution_count": 13,
     "metadata": {},
     "output_type": "execute_result"
    }
   ],
   "source": [
    "sudoku"
   ]
  },
  {
   "cell_type": "code",
   "execution_count": 14,
   "metadata": {},
   "outputs": [
    {
     "name": "stdout",
     "output_type": "stream",
     "text": [
      "[[0 0 0 0 0 0 0 0 0]\n",
      " [0 0 0 0 0 0 0 0 0]\n",
      " [0 0 0 0 0 0 0 0 0]\n",
      " [0 0 0 0 0 0 0 0 0]\n",
      " [0 0 0 0 0 0 0 0 0]\n",
      " [0 0 0 0 0 0 0 0 0]\n",
      " [0 0 0 0 0 0 0 0 0]\n",
      " [0 0 0 0 0 0 0 0 0]\n",
      " [0 0 0 0 0 0 0 0 0]]\n"
     ]
    }
   ],
   "source": [
    "#on_start is array which have 1 in cells filled no start and 0 it cells not filled\n",
    "on_start = np.copy(sudoku)\n",
    "np.place(on_start, on_start>0, [True])\n",
    "print(on_start)\n",
    "#print(sudoku)"
   ]
  },
  {
   "cell_type": "code",
   "execution_count": null,
   "metadata": {},
   "outputs": [],
   "source": []
  },
  {
   "cell_type": "code",
   "execution_count": 15,
   "metadata": {},
   "outputs": [],
   "source": [
    "# for easier sudoku\n",
    "#%%time\n",
    "#sudoku = solve(sudoku, on_start, 0, 0, 1, go_back=False, rec=0)"
   ]
  },
  {
   "cell_type": "code",
   "execution_count": 16,
   "metadata": {},
   "outputs": [
    {
     "data": {
      "text/plain": [
       "array([[0, 0, 0, 0, 0, 0, 0, 0, 0],\n",
       "       [0, 0, 0, 0, 0, 0, 0, 0, 0],\n",
       "       [0, 0, 0, 0, 0, 0, 0, 0, 0],\n",
       "       [0, 0, 0, 0, 0, 0, 0, 0, 0],\n",
       "       [0, 0, 0, 0, 0, 0, 0, 0, 0],\n",
       "       [0, 0, 0, 0, 0, 0, 0, 0, 0],\n",
       "       [0, 0, 0, 0, 0, 0, 0, 0, 0],\n",
       "       [0, 0, 0, 0, 0, 0, 0, 0, 0],\n",
       "       [0, 0, 0, 0, 0, 0, 0, 0, 0]])"
      ]
     },
     "execution_count": 16,
     "metadata": {},
     "output_type": "execute_result"
    }
   ],
   "source": [
    "sudoku"
   ]
  },
  {
   "cell_type": "code",
   "execution_count": 17,
   "metadata": {},
   "outputs": [],
   "source": [
    "threading.stack_size(67108864) # 64MB stack\n",
    "sys.setrecursionlimit(2 ** 20) # something real big\n",
    "                               # you actually hit the 64MB limit first\n",
    "                               # going by other answers, could just use 2**32-1"
   ]
  },
  {
   "cell_type": "code",
   "execution_count": 18,
   "metadata": {},
   "outputs": [
    {
     "name": "stdout",
     "output_type": "stream",
     "text": [
      "Recursion: 0\n",
      "Recursion: 1000\n",
      "Recursion: 2000\n",
      "Recursion: 3000\n",
      "Recursion: 3437\n"
     ]
    }
   ],
   "source": [
    "# for harder sudoku\n",
    "#%%time\n",
    "# only new threads get the redefined stack size\n",
    "thread = threading.Thread(target=solve, args = (sudoku, on_start, 0, 0, 1, False, 0, ))\n",
    "thread.start()"
   ]
  },
  {
   "cell_type": "code",
   "execution_count": 19,
   "metadata": {},
   "outputs": [
    {
     "data": {
      "text/plain": [
       "array([[1, 2, 3, 4, 5, 6, 7, 8, 9],\n",
       "       [4, 5, 6, 7, 8, 9, 1, 2, 3],\n",
       "       [7, 8, 9, 1, 2, 3, 4, 5, 6],\n",
       "       [2, 1, 4, 3, 6, 5, 8, 9, 7],\n",
       "       [3, 6, 5, 8, 9, 7, 2, 1, 4],\n",
       "       [8, 9, 7, 2, 1, 4, 3, 6, 5],\n",
       "       [5, 3, 1, 6, 4, 2, 9, 7, 8],\n",
       "       [6, 4, 2, 9, 7, 8, 5, 3, 1],\n",
       "       [9, 7, 8, 5, 3, 1, 6, 4, 2]])"
      ]
     },
     "execution_count": 19,
     "metadata": {},
     "output_type": "execute_result"
    }
   ],
   "source": [
    "sudoku"
   ]
  },
  {
   "cell_type": "code",
   "execution_count": null,
   "metadata": {},
   "outputs": [],
   "source": []
  }
 ],
 "metadata": {
  "kernelspec": {
   "display_name": "Python 3",
   "language": "python",
   "name": "python3"
  },
  "language_info": {
   "codemirror_mode": {
    "name": "ipython",
    "version": 3
   },
   "file_extension": ".py",
   "mimetype": "text/x-python",
   "name": "python",
   "nbconvert_exporter": "python",
   "pygments_lexer": "ipython3",
   "version": "3.7.3"
  }
 },
 "nbformat": 4,
 "nbformat_minor": 2
}
