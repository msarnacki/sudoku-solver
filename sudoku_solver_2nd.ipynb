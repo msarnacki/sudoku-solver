{
 "cells": [
  {
   "cell_type": "markdown",
   "metadata": {},
   "source": [
    "In this notebook I have made 2nd solving algorithm (see readme)"
   ]
  },
  {
   "cell_type": "code",
   "execution_count": 1,
   "metadata": {},
   "outputs": [],
   "source": [
    "import numpy as np\n",
    "import threading\n",
    "import sys\n",
    "import datetime"
   ]
  },
  {
   "cell_type": "code",
   "execution_count": 2,
   "metadata": {},
   "outputs": [],
   "source": [
    "#sudoku = np.zeros(81,dtype=\"int\").reshape(9,9)\n",
    "def clear_sudoku():\n",
    "    sudoku = [[0, 0, 0, 0, 0, 0, 0, 0, 0],\n",
    "              [0, 0, 0, 0, 0, 0, 0, 0, 0],\n",
    "              [0, 0, 0, 0, 0, 0, 0, 0, 0],\n",
    "              [0, 0, 0, 0, 0, 0, 0, 0, 0],\n",
    "              [0, 0, 0, 0, 0, 0, 0, 0, 0],\n",
    "              [0, 0, 0, 0, 0, 0, 0, 0, 0],\n",
    "              [0, 0, 0, 0, 0, 0, 0, 0, 0],\n",
    "              [0, 0, 0, 0, 0, 0, 0, 0, 0],\n",
    "              [0, 0, 0, 0, 0, 0, 0, 0, 0]]\n",
    "\n",
    "    sudoku = np.array(sudoku)\n",
    "    return sudoku"
   ]
  },
  {
   "cell_type": "markdown",
   "metadata": {},
   "source": [
    "Examples are from websudoku.com"
   ]
  },
  {
   "cell_type": "code",
   "execution_count": 3,
   "metadata": {},
   "outputs": [],
   "source": [
    "def example_easy_sudoku():\n",
    "    sudoku = []\n",
    "    sudoku.append(np.array([[0, 4, 0, 0, 0, 3, 0, 6, 0],\n",
    "                 [6, 0, 8, 9, 0, 1, 5, 7, 0],\n",
    "                 [0, 2, 0, 7, 6, 0, 0, 0, 3],\n",
    "                 [2, 0, 0, 4, 5, 7, 0, 0, 0],\n",
    "                 [0, 0, 0, 0, 0, 0, 0, 0, 0],\n",
    "                 [0, 0, 0, 2, 1, 9, 0, 0, 6],\n",
    "                 [3, 0, 0, 0, 9, 4, 0, 5, 0],\n",
    "                 [0, 9, 5, 6, 0, 2, 8, 0, 1],\n",
    "                 [0, 7, 0, 1, 0, 0, 0, 9, 0]]))\n",
    "\n",
    "    sudoku.append(np.array([[0, 5, 0, 1, 4, 0, 0, 0, 2],\n",
    "                 [7, 0, 1, 0, 0, 9, 0, 0, 4],\n",
    "                 [4, 3, 0, 6, 0, 0, 0, 0, 0],\n",
    "                 [5, 0, 3, 0, 9, 1, 2, 0, 0],\n",
    "                 [0, 1, 0, 3, 0, 6, 0, 5, 0],\n",
    "                 [0, 0, 7, 5, 2, 0, 6, 0, 1],\n",
    "                 [0, 0, 0, 0, 0, 8, 0, 9, 5],\n",
    "                 [9, 0, 0, 4, 0, 0, 8, 0, 3],\n",
    "                 [1, 0, 0, 0, 7, 3, 0, 2, 0]]))\n",
    "    \n",
    "    sudoku.append(np.array([[0, 8, 0, 0, 3, 5, 9, 0, 0],\n",
    "                 [0, 0, 6, 1, 0, 0, 0, 0, 0],\n",
    "                 [2, 0, 0, 0, 9, 0, 8, 7, 0],\n",
    "                 [0, 0, 0, 3, 5, 0, 1, 2, 4],\n",
    "                 [1, 4, 3, 0, 0, 0, 7, 5, 8],\n",
    "                 [5, 7, 2, 0, 4, 1, 0, 0, 0],\n",
    "                 [0, 2, 9, 0, 7, 0, 0, 0, 6],\n",
    "                 [0, 0, 0, 0, 0, 4, 2, 0, 0],\n",
    "                 [0, 0, 4, 9, 2, 0, 0, 3, 0]]))\n",
    "\n",
    "    return sudoku"
   ]
  },
  {
   "cell_type": "code",
   "execution_count": 4,
   "metadata": {},
   "outputs": [],
   "source": [
    "def example_medium_sudoku():\n",
    "    sudoku = []\n",
    "    sudoku.append(np.array([[0, 8, 6, 3, 0, 0, 0, 0, 4],\n",
    "                 [0, 0, 1, 0, 9, 0, 0, 0, 0],\n",
    "                 [0, 0, 0, 4, 1, 2, 0, 6, 0],\n",
    "                 [5, 1, 0, 0, 0, 0, 0, 0, 3],\n",
    "                 [6, 0, 3, 0, 5, 0, 8, 0, 1],\n",
    "                 [8, 0, 0, 0, 0, 0, 0, 7, 5],\n",
    "                 [0, 4, 0, 5, 6, 7, 0, 0, 0],\n",
    "                 [0, 0, 0, 0, 8, 0, 2, 0, 0],\n",
    "                 [7, 0, 0, 0, 0, 3, 1, 5, 0]]))\n",
    "\n",
    "    sudoku.append(np.array([[9, 7, 0, 4, 0, 0, 0, 0, 5],\n",
    "                 [0, 8, 3, 2, 0, 5, 0, 0, 0],\n",
    "                 [0, 0, 4, 6, 0, 0, 7, 0, 0],\n",
    "                 [7, 3, 0, 8, 0, 0, 0, 4, 0],\n",
    "                 [0, 0, 0, 7, 0, 1, 0, 0, 0],\n",
    "                 [0, 1, 0, 0, 0, 3, 0, 6, 7],\n",
    "                 [0, 0, 1, 0, 0, 4, 8, 0, 0],\n",
    "                 [0, 0, 0, 3, 0, 6, 4, 5, 0],\n",
    "                 [6, 0, 0, 0, 0, 7, 0, 3, 2]]))\n",
    "    \n",
    "    sudoku.append(np.array([[0, 4, 0, 0, 0, 0, 0, 9, 3],\n",
    "                 [0, 0, 0, 0, 5, 0, 7, 0, 0],\n",
    "                 [0, 0, 0, 0, 3, 2, 5, 0, 6],\n",
    "                 [0, 0, 0, 0, 0, 0, 9, 0, 7],\n",
    "                 [5, 2, 0, 7, 9, 6, 0, 8, 4],\n",
    "                 [7, 0, 1, 0, 0, 0, 0, 0, 0],\n",
    "                 [3, 0, 8, 9, 2, 0, 0, 0, 0],\n",
    "                 [0, 0, 2, 0, 6, 0, 0, 0, 0],\n",
    "                 [9, 6, 0, 0, 0, 0, 0, 3, 0]]))\n",
    "\n",
    "    return sudoku"
   ]
  },
  {
   "cell_type": "code",
   "execution_count": 5,
   "metadata": {},
   "outputs": [],
   "source": [
    "def example_hard_sudoku():\n",
    "    sudoku = []\n",
    "    sudoku.append(np.array([[0, 0, 0, 0, 0, 5, 0, 0, 0],\n",
    "                 [0, 0, 7, 6, 0, 0, 4, 0, 0],\n",
    "                 [3, 0, 0, 0, 7, 0, 0, 1, 0],\n",
    "                 [0, 0, 9, 0, 0, 8, 0, 5, 0],\n",
    "                 [5, 0, 3, 9, 0, 2, 6, 0, 1],\n",
    "                 [0, 4, 0, 1, 0, 0, 2, 0, 0],\n",
    "                 [0, 3, 0, 0, 8, 0, 0, 0, 9],\n",
    "                 [0, 0, 6, 0, 0, 4, 5, 0, 0],\n",
    "                 [0, 0, 0, 7, 0, 0, 0, 0, 0]]))\n",
    "\n",
    "    sudoku.append(np.array([[0, 3, 7, 0, 5, 0, 0, 0, 0],\n",
    "                 [0, 0, 0, 6, 8, 0, 0, 0, 2],\n",
    "                 [0, 0, 4, 0, 2, 0, 0, 1, 0],\n",
    "                 [0, 0, 0, 0, 0, 5, 0, 0, 6],\n",
    "                 [9, 2, 0, 0, 0, 0, 0, 4, 1],\n",
    "                 [1, 0, 0, 2, 0, 0, 0, 0, 0],\n",
    "                 [0, 6, 0, 0, 4, 0, 2, 0, 0],\n",
    "                 [4, 0, 0, 0, 3, 2, 0, 0, 0],\n",
    "                 [0, 0, 0, 0, 6, 0, 3, 7, 0]]))\n",
    "    \n",
    "    sudoku.append(np.array([[6, 0, 0, 5, 0, 0, 0, 0, 1],\n",
    "                 [0, 9, 0, 7, 0, 8, 5, 0, 0],\n",
    "                 [0, 1, 0, 3, 0, 0, 0, 8, 0],\n",
    "                 [1, 0, 8, 0, 3, 0, 6, 0, 0],\n",
    "                 [0, 0, 0, 0, 0, 0, 0, 0, 0],\n",
    "                 [0, 0, 6, 0, 8, 0, 3, 0, 9],\n",
    "                 [0, 4, 0, 0, 0, 3, 0, 9, 0],\n",
    "                 [0, 0, 9, 2, 0, 5, 0, 1, 0],\n",
    "                 [8, 0, 0, 0, 0, 9, 0, 0, 7]]))\n",
    "\n",
    "    return sudoku"
   ]
  },
  {
   "cell_type": "code",
   "execution_count": 6,
   "metadata": {},
   "outputs": [],
   "source": [
    "def example_evil_sudoku():\n",
    "    sudoku = []\n",
    "    sudoku.append(np.array([[6, 0, 0, 4, 0, 0, 0, 0, 0],\n",
    "                 [0, 0, 2, 0, 5, 3, 0, 1, 0],\n",
    "                 [8, 0, 0, 0, 2, 0, 0, 0, 4],\n",
    "                 [1, 0, 9, 5, 0, 0, 7, 0, 0],\n",
    "                 [0, 0, 0, 0, 0, 0, 0, 0, 0],\n",
    "                 [0, 0, 6, 0, 0, 4, 9, 0, 5],\n",
    "                 [2, 0, 0, 0, 6, 0, 0, 0, 7],\n",
    "                 [0, 3, 0, 9, 4, 0, 2, 0, 0],\n",
    "                 [0, 0, 0, 0, 0, 8, 0, 0, 9]]))\n",
    "\n",
    "    sudoku.append(np.array([[0, 3, 7, 0, 5, 0, 0, 0, 0],\n",
    "                 [0, 0, 0, 6, 8, 0, 0, 0, 2],\n",
    "                 [0, 0, 4, 0, 2, 0, 0, 1, 0],\n",
    "                 [0, 0, 0, 0, 0, 5, 0, 0, 6],\n",
    "                 [9, 2, 0, 0, 0, 0, 0, 4, 1],\n",
    "                 [1, 0, 0, 2, 0, 0, 0, 0, 0],\n",
    "                 [0, 6, 0, 0, 4, 0, 2, 0, 0],\n",
    "                 [4, 0, 0, 0, 3, 2, 0, 0, 0],\n",
    "                 [0, 0, 0, 0, 6, 0, 3, 7, 0]]))\n",
    "    \n",
    "    sudoku.append(np.array([[0, 0, 0, 0, 0, 0, 0, 0, 0],\n",
    "                 [0, 5, 3, 0, 0, 4, 8, 7, 0],\n",
    "                 [0, 0, 0, 0, 0, 1, 4, 0, 9],\n",
    "                 [0, 1, 0, 0, 6, 0, 0, 0, 0],\n",
    "                 [7, 9, 0, 0, 0, 0, 0, 3, 4],\n",
    "                 [0, 0, 0, 0, 1, 0, 0, 2, 0],\n",
    "                 [3, 0, 5, 6, 0, 0, 0, 0, 0],\n",
    "                 [0, 8, 1, 3, 0, 0, 2, 9, 0],\n",
    "                 [0, 0, 0, 0, 0, 0, 0, 0, 0]]))\n",
    "\n",
    "    return sudoku"
   ]
  },
  {
   "cell_type": "code",
   "execution_count": 7,
   "metadata": {},
   "outputs": [],
   "source": [
    "#sudoku[1,3] - value from row 1 and col 3\n",
    "#sudoku[:,3] - whole column 3\n",
    "#sudoku[1,:] - whole row 1"
   ]
  },
  {
   "cell_type": "code",
   "execution_count": 8,
   "metadata": {},
   "outputs": [],
   "source": [
    "def if_possible(sudoku, row, col, number):\n",
    "    possible = False\n",
    "    \n",
    "    ##check if number in row\n",
    "    if number not in sudoku[row,:]:\n",
    "        possible = True\n",
    "    else:\n",
    "        return False\n",
    "    \n",
    "    ##check if number in column\n",
    "    if number not in sudoku[:,col]:\n",
    "        possible = True\n",
    "    else:\n",
    "        return False\n",
    "    \n",
    "    ##check if number in squere 3x3\n",
    "    start_sq_row = row // 3 #floor qoutient\n",
    "    # can make it prettier\n",
    "    if start_sq_row == 1:\n",
    "        start_sq_row = 3\n",
    "    elif start_sq_row ==2:\n",
    "        start_sq_row = 6\n",
    "    start_sq_col = col // 3\n",
    "    if start_sq_col == 1:\n",
    "        start_sq_col = 3\n",
    "    elif start_sq_col ==2:\n",
    "        start_sq_col = 6\n",
    "        \n",
    "    end_sq_row = start_sq_row + 3\n",
    "    end_sq_col = start_sq_col + 3\n",
    "    \n",
    "#     print(\"Starting row of squere: {}\".format(start_sq_row))\n",
    "#     print(\"Starting column of squere: {}\".format(start_sq_col))\n",
    "#     print(\"Ending row of squere: {}\".format(end_sq_row))\n",
    "#     print(\"Ending column of squere: {}\".format(end_sq_col))\n",
    "    \n",
    "    if number not in sudoku[start_sq_row:end_sq_row,start_sq_col:end_sq_col]:\n",
    "        possible = True\n",
    "    else:\n",
    "        return False\n",
    "    \n",
    "    return possible"
   ]
  },
  {
   "cell_type": "code",
   "execution_count": 9,
   "metadata": {},
   "outputs": [],
   "source": [
    "## checking if function works\n",
    "#if_possible(sudoku, 1, 6, 1)"
   ]
  },
  {
   "cell_type": "code",
   "execution_count": null,
   "metadata": {},
   "outputs": [],
   "source": []
  },
  {
   "cell_type": "code",
   "execution_count": 10,
   "metadata": {},
   "outputs": [],
   "source": [
    "def restart_higher_order_put(sudoku, safe_cells, order, order_put):\n",
    "    for i in range(9):\n",
    "        for j in range(9):\n",
    "            if order[i][j] > order_put:\n",
    "                order[i][j] = 0\n",
    "                sudoku[i][j] = 0\n",
    "                safe_cells[i][j] = 0\n",
    "    return sudoku, safe_cells, order"
   ]
  },
  {
   "cell_type": "code",
   "execution_count": null,
   "metadata": {},
   "outputs": [],
   "source": []
  },
  {
   "cell_type": "code",
   "execution_count": 11,
   "metadata": {},
   "outputs": [],
   "source": [
    "###\n",
    "# pierwsze wywolanie: \n",
    "# sudoku = sudoku\n",
    "# safe_cells = on_start\n",
    "# rec = 1\n",
    "#\n",
    "# sprawdzanie kazdej komórki \n",
    "#\n",
    "# sudoku jest aktualizowane co krok o te pozycje które są pewne\n",
    "# safe_cells są rozszerzane o te pozycje które są pewne\n",
    "# rec powiększane o 1"
   ]
  },
  {
   "cell_type": "code",
   "execution_count": 12,
   "metadata": {},
   "outputs": [],
   "source": [
    "# #first try - without go back\n",
    "# def solve(sudoku, safe_cells, rec):\n",
    "#     if rec % 10 == 0:\n",
    "#         print(\"Recursion: {}\".format(rec))\n",
    "        \n",
    "#     for i in range(9):\n",
    "#         for j in range(9):\n",
    "#             if safe_cells[i][j] == 0:\n",
    "#                 count = 0\n",
    "#                 num = None\n",
    "            \n",
    "#                 for n in range(1,10):\n",
    "#                     if if_possible(sudoku, i, j, n) == True:\n",
    "#                         count = count + 1\n",
    "#                         # if there will be only one possible it will be placed in next if statement\n",
    "#                         num = n  \n",
    "\n",
    "#                 if count == 1:\n",
    "#                     sudoku[i][j] = num\n",
    "#                     safe_cells[i][j] = 1\n",
    "#     if safe_cells.sum() == 81:\n",
    "#         return sudoku\n",
    "#     else:\n",
    "#         return solve(sudoku, safe_cells, rec+1)"
   ]
  },
  {
   "cell_type": "code",
   "execution_count": 13,
   "metadata": {},
   "outputs": [],
   "source": [
    "#second try - with go back\n",
    "def solve(sudoku, safe_cells, order, order_put, go_back, rec):\n",
    "    \n",
    "    if rec == 1:\n",
    "        print(datetime.datetime.now())\n",
    "        \n",
    "    #printing recursion step\n",
    "    if rec % 100 == 0:  \n",
    "        print(\"Recursion: {}\".format(rec))\n",
    "        \n",
    "    #if going back \n",
    "    if go_back == True:\n",
    "        row_col = np.where(order == order_put)\n",
    "        # if there is more than 1 order_put in order that means these cell had only 1 possibility so just go back a stap more\n",
    "        \n",
    "        if row_col[0].shape[0] > 1:\n",
    "            go_back = True\n",
    "            order_put = order_put - 1\n",
    "\n",
    "            sudoku, safe_cells, order = restart_higher_order_put(sudoku, safe_cells, order, order_put)\n",
    "\n",
    "            return solve(sudoku, safe_cells, order, order_put, go_back, rec + 1)\n",
    "        \n",
    "        #print(row_col)\n",
    "        row = row_col[0][0]\n",
    "        col = row_col[1][0]\n",
    "        \n",
    "        num = sudoku[row][col]\n",
    "        if num == 9:\n",
    "            #print(\"No other number can be put in place: [{}][{}]\".format( row, col))\n",
    "            # if it went back to the start there is an error\n",
    "            if order_put == 1:\n",
    "                #print(\"ERROR, can't go back. Actual order_put is {}\".format(order_put))\n",
    "                print(\"Recursion: {}\".format(rec))\n",
    "                print(datetime.datetime.now())\n",
    "                return sudoku\n",
    "            # if can't put in this cell go to previous order_put\n",
    "            else:\n",
    "                go_back = True\n",
    "                order_put = order_put - 1\n",
    "\n",
    "                sudoku, safe_cells, order = restart_higher_order_put(sudoku, safe_cells, order, order_put)\n",
    "\n",
    "                return solve(sudoku, safe_cells, order, order_put, go_back, rec + 1)\n",
    "        for n in range(num+1, 10):\n",
    "            # if possible to put number in cell\n",
    "            if if_possible(sudoku, row, col, n) == True:\n",
    "                #print(\"It'is possible to put: {} in place: [{}][{}]\".format(n, row, col))\n",
    "                sudoku[row][col] = n\n",
    "                safe_cells[row][col] = 1\n",
    "                order[row][col] = order_put\n",
    "                order_put = order_put + 1\n",
    "                go_back = False\n",
    "                \n",
    "                # ending if\n",
    "                if safe_cells.sum() == 81:\n",
    "                    print(\"Recursion: {}\".format(rec))\n",
    "                    print(datetime.datetime.now())\n",
    "                    return sudoku\n",
    "                else:\n",
    "                    return solve(sudoku, safe_cells, order, order_put, go_back, rec+1)\n",
    "                \n",
    "            # if can't put different number in this cell\n",
    "            else:\n",
    "                if n == 9:\n",
    "                    #print(\"No other number can be put in place: [{}][{}]\".format( row, col))\n",
    "                    # if it went back to the start there is an error\n",
    "                    if order_put == 1:\n",
    "                        #print(\"ERROR, can't go back. Actual order_put is {}\".format(order_put))\n",
    "                        print(\"Recursion: {}\".format(rec))\n",
    "                        print(datetime.datetime.now())\n",
    "                        return sudoku\n",
    "                    # if can't put in this cell go to previous order_put\n",
    "                    else:\n",
    "                        go_back = True\n",
    "                        order_put = order_put - 1\n",
    "\n",
    "                        sudoku, safe_cells, order = restart_higher_order_put(sudoku, safe_cells, order, order_put)\n",
    "\n",
    "                        return solve(sudoku, safe_cells, order, order_put, go_back, rec + 1)\n",
    "                \n",
    "    #if not going back\n",
    "    else:\n",
    "        count_table = np.zeros(81,dtype=\"int\").reshape(9,9)\n",
    "\n",
    "        for i in range(9):\n",
    "            for j in range(9):\n",
    "                if safe_cells[i][j] == 0:\n",
    "                    count = 0\n",
    "                    num = None\n",
    "\n",
    "                    for n in range(1,10):\n",
    "                        if if_possible(sudoku, i, j, n) == True:\n",
    "                            count = count + 1\n",
    "                            num = n\n",
    "\n",
    "                    count_table[i][j] = count\n",
    "\n",
    "                    # if there will be 1 possiblity it will be put in cell\n",
    "                    if count == 1:\n",
    "                        sudoku[i][j] = num\n",
    "                        safe_cells[i][j] = 1\n",
    "                        order[i][j] = order_put\n",
    "                        # not incrementing order_put so all sure cells will be in the same step in history\n",
    "                        go_back = False\n",
    "        \n",
    "        #error, there is no possibility to put in a number in any cell\n",
    "        if count_table.sum() == 0:\n",
    "            go_back = True\n",
    "            order_put = order_put - 1\n",
    "\n",
    "            sudoku, safe_cells, order = restart_higher_order_put(sudoku, safe_cells, order, order_put)\n",
    "\n",
    "            return solve(sudoku, safe_cells, order, order_put, go_back, rec + 1)\n",
    "\n",
    "        #if there won't be only 1 possibility in any cell do algorithm to put one of possibilities and go on and then go back at some point\n",
    "        if 1 not in count_table and safe_cells.sum() != 81:    \n",
    "            min_pos = count_table[count_table > 1].min()\n",
    "\n",
    "            for i in range(9):\n",
    "                for j in range(9):\n",
    "                    if count_table[i][j] == min_pos:\n",
    "                        for n in range(1,10):\n",
    "                            if if_possible(sudoku, i, j, n) == True:\n",
    "                                sudoku[i][j] = n\n",
    "                                safe_cells[i][j] = 1\n",
    "                                order[i][j] = order_put\n",
    "                                order_put = order_put + 1\n",
    "                                go_back = False\n",
    "                                return solve(sudoku, safe_cells, order, order_put, go_back, rec + 1)\n",
    "                                \n",
    "            #print(sudoku)\n",
    "            #print(safe_cells.sum())\n",
    "            #print(min_pos)\n",
    "    order_put = order_put + 1\n",
    "            \n",
    "    # ending if\n",
    "    if safe_cells.sum() == 81:\n",
    "        print(\"Recursion: {}\".format(rec))\n",
    "        print(datetime.datetime.now())\n",
    "        return sudoku\n",
    "    else:\n",
    "        return solve(sudoku, safe_cells, order, order_put, go_back, rec+1)"
   ]
  },
  {
   "cell_type": "code",
   "execution_count": 14,
   "metadata": {},
   "outputs": [],
   "source": [
    "arr = np.array([[0,1,2,3],[6,3,3,3]])"
   ]
  },
  {
   "cell_type": "code",
   "execution_count": 15,
   "metadata": {},
   "outputs": [
    {
     "name": "stdout",
     "output_type": "stream",
     "text": [
      "0\n",
      "[]\n",
      "[]\n"
     ]
    }
   ],
   "source": [
    "res = np.where(arr==10)\n",
    "print(res[0].shape[0])\n",
    "\n",
    "print(res[0])\n",
    "print(res[1])"
   ]
  },
  {
   "cell_type": "code",
   "execution_count": 16,
   "metadata": {},
   "outputs": [],
   "source": [
    "#sudoku = clear_sudoku()\n",
    "#sudoku = example_easy_sudoku()\n",
    "#sudoku = example_medium_sudoku()\n",
    "#sudoku = example_hard_sudoku()\n",
    "sudoku = example_evil_sudoku()"
   ]
  },
  {
   "cell_type": "code",
   "execution_count": 17,
   "metadata": {},
   "outputs": [
    {
     "data": {
      "text/plain": [
       "[array([[6, 0, 0, 4, 0, 0, 0, 0, 0],\n",
       "        [0, 0, 2, 0, 5, 3, 0, 1, 0],\n",
       "        [8, 0, 0, 0, 2, 0, 0, 0, 4],\n",
       "        [1, 0, 9, 5, 0, 0, 7, 0, 0],\n",
       "        [0, 0, 0, 0, 0, 0, 0, 0, 0],\n",
       "        [0, 0, 6, 0, 0, 4, 9, 0, 5],\n",
       "        [2, 0, 0, 0, 6, 0, 0, 0, 7],\n",
       "        [0, 3, 0, 9, 4, 0, 2, 0, 0],\n",
       "        [0, 0, 0, 0, 0, 8, 0, 0, 9]]), array([[0, 3, 7, 0, 5, 0, 0, 0, 0],\n",
       "        [0, 0, 0, 6, 8, 0, 0, 0, 2],\n",
       "        [0, 0, 4, 0, 2, 0, 0, 1, 0],\n",
       "        [0, 0, 0, 0, 0, 5, 0, 0, 6],\n",
       "        [9, 2, 0, 0, 0, 0, 0, 4, 1],\n",
       "        [1, 0, 0, 2, 0, 0, 0, 0, 0],\n",
       "        [0, 6, 0, 0, 4, 0, 2, 0, 0],\n",
       "        [4, 0, 0, 0, 3, 2, 0, 0, 0],\n",
       "        [0, 0, 0, 0, 6, 0, 3, 7, 0]]), array([[0, 0, 0, 0, 0, 0, 0, 0, 0],\n",
       "        [0, 5, 3, 0, 0, 4, 8, 7, 0],\n",
       "        [0, 0, 0, 0, 0, 1, 4, 0, 9],\n",
       "        [0, 1, 0, 0, 6, 0, 0, 0, 0],\n",
       "        [7, 9, 0, 0, 0, 0, 0, 3, 4],\n",
       "        [0, 0, 0, 0, 1, 0, 0, 2, 0],\n",
       "        [3, 0, 5, 6, 0, 0, 0, 0, 0],\n",
       "        [0, 8, 1, 3, 0, 0, 2, 9, 0],\n",
       "        [0, 0, 0, 0, 0, 0, 0, 0, 0]])]"
      ]
     },
     "execution_count": 17,
     "metadata": {},
     "output_type": "execute_result"
    }
   ],
   "source": [
    "sudoku"
   ]
  },
  {
   "cell_type": "code",
   "execution_count": 18,
   "metadata": {},
   "outputs": [
    {
     "name": "stdout",
     "output_type": "stream",
     "text": [
      "[[[1 0 0 1 0 0 0 0 0]\n",
      "  [0 0 1 0 1 1 0 1 0]\n",
      "  [1 0 0 0 1 0 0 0 1]\n",
      "  [1 0 1 1 0 0 1 0 0]\n",
      "  [0 0 0 0 0 0 0 0 0]\n",
      "  [0 0 1 0 0 1 1 0 1]\n",
      "  [1 0 0 0 1 0 0 0 1]\n",
      "  [0 1 0 1 1 0 1 0 0]\n",
      "  [0 0 0 0 0 1 0 0 1]]\n",
      "\n",
      " [[0 1 1 0 1 0 0 0 0]\n",
      "  [0 0 0 1 1 0 0 0 1]\n",
      "  [0 0 1 0 1 0 0 1 0]\n",
      "  [0 0 0 0 0 1 0 0 1]\n",
      "  [1 1 0 0 0 0 0 1 1]\n",
      "  [1 0 0 1 0 0 0 0 0]\n",
      "  [0 1 0 0 1 0 1 0 0]\n",
      "  [1 0 0 0 1 1 0 0 0]\n",
      "  [0 0 0 0 1 0 1 1 0]]\n",
      "\n",
      " [[0 0 0 0 0 0 0 0 0]\n",
      "  [0 1 1 0 0 1 1 1 0]\n",
      "  [0 0 0 0 0 1 1 0 1]\n",
      "  [0 1 0 0 1 0 0 0 0]\n",
      "  [1 1 0 0 0 0 0 1 1]\n",
      "  [0 0 0 0 1 0 0 1 0]\n",
      "  [1 0 1 1 0 0 0 0 0]\n",
      "  [0 1 1 1 0 0 1 1 0]\n",
      "  [0 0 0 0 0 0 0 0 0]]]\n"
     ]
    }
   ],
   "source": [
    "safe_cells = np.copy(sudoku)\n",
    "np.place(safe_cells, safe_cells>0, [True])\n",
    "print(safe_cells)\n",
    "#print(sudoku)"
   ]
  },
  {
   "cell_type": "code",
   "execution_count": 19,
   "metadata": {},
   "outputs": [
    {
     "data": {
      "text/plain": [
       "26"
      ]
     },
     "execution_count": 19,
     "metadata": {},
     "output_type": "execute_result"
    }
   ],
   "source": [
    "safe_cells[0].sum()"
   ]
  },
  {
   "cell_type": "code",
   "execution_count": 20,
   "metadata": {},
   "outputs": [],
   "source": [
    "order = [np.zeros(81,dtype=\"int\").reshape(9,9), np.zeros(81,dtype=\"int\").reshape(9,9), np.zeros(81,dtype=\"int\").reshape(9,9)]\n",
    "order_put = [1,1,1]\n",
    "rec = [1,1,1]"
   ]
  },
  {
   "cell_type": "code",
   "execution_count": null,
   "metadata": {},
   "outputs": [],
   "source": []
  },
  {
   "cell_type": "code",
   "execution_count": 21,
   "metadata": {},
   "outputs": [],
   "source": [
    "# for easier sudoku\n",
    "#%%time\n",
    "#sudoku = solve(sudoku, on_start, 0, 0, 1, go_back=False, rec=0)"
   ]
  },
  {
   "cell_type": "code",
   "execution_count": 22,
   "metadata": {},
   "outputs": [],
   "source": [
    "#sudoku"
   ]
  },
  {
   "cell_type": "code",
   "execution_count": 23,
   "metadata": {},
   "outputs": [],
   "source": [
    "threading.stack_size(67108864) # 64MB stack\n",
    "sys.setrecursionlimit(2 ** 20) # something real big\n",
    "                               # you actually hit the 64MB limit first\n",
    "                               # going by other answers, could just use 2**32-1"
   ]
  },
  {
   "cell_type": "code",
   "execution_count": 24,
   "metadata": {},
   "outputs": [
    {
     "name": "stdout",
     "output_type": "stream",
     "text": [
      "2020-02-27 13:33:38.998167\n",
      "Recursion: 100\n",
      "Recursion: 200\n",
      "Recursion: 300\n",
      "Recursion: 400\n",
      "Recursion: 500\n",
      "Recursion: 600\n",
      "Recursion: 700\n",
      "Recursion: 800\n",
      "Recursion: 900\n",
      "Recursion: 1000\n",
      "Recursion: 1100\n",
      "Recursion: 1200\n",
      "Recursion: 1300\n",
      "Recursion: 1400\n",
      "Recursion: 1500\n",
      "Recursion: 1600\n",
      "Recursion: 1700\n",
      "Recursion: 1800\n",
      "Recursion: 1900\n",
      "Recursion: 2000\n",
      "Recursion: 2100\n",
      "Recursion: 2200\n",
      "Recursion: 2300\n",
      "Recursion: 2400\n",
      "Recursion: 2500\n",
      "Recursion: 2600\n",
      "Recursion: 2700\n",
      "Recursion: 2800\n",
      "Recursion: 2900\n",
      "Recursion: 3000\n",
      "Recursion: 3049\n",
      "2020-02-27 13:33:40.185644\n"
     ]
    }
   ],
   "source": [
    "thread = threading.Thread(target=solve, args = (sudoku[0], safe_cells[0], order[0], order_put[0], False, rec[0], ))\n",
    "thread.start()"
   ]
  },
  {
   "cell_type": "code",
   "execution_count": 25,
   "metadata": {},
   "outputs": [
    {
     "name": "stdout",
     "output_type": "stream",
     "text": [
      "2020-02-27 13:33:42.422004\n",
      "Recursion: 100\n",
      "Recursion: 200\n",
      "Recursion: 300\n",
      "Recursion: 400\n",
      "Recursion: 500\n",
      "Recursion: 600\n",
      "Recursion: 700\n",
      "Recursion: 800\n",
      "Recursion: 900\n",
      "Recursion: 1000\n",
      "Recursion: 1100\n",
      "Recursion: 1200\n",
      "Recursion: 1300\n",
      "Recursion: 1400\n",
      "Recursion: 1500\n",
      "Recursion: 1600\n",
      "Recursion: 1700\n",
      "Recursion: 1800\n",
      "Recursion: 1900\n",
      "Recursion: 2000\n",
      "Recursion: 2100\n",
      "Recursion: 2200\n",
      "Recursion: 2300\n",
      "Recursion: 2400\n",
      "Recursion: 2500\n",
      "Recursion: 2600\n",
      "Recursion: 2700\n",
      "Recursion: 2800\n",
      "Recursion: 2801\n",
      "2020-02-27 13:33:43.186314\n"
     ]
    }
   ],
   "source": [
    "thread = threading.Thread(target=solve, args = (sudoku[1], safe_cells[1], order[1], order_put[1], False, rec[1], ))\n",
    "thread.start()"
   ]
  },
  {
   "cell_type": "code",
   "execution_count": 26,
   "metadata": {},
   "outputs": [
    {
     "name": "stdout",
     "output_type": "stream",
     "text": [
      "2020-02-27 13:33:45.561401\n",
      "Recursion: 100\n",
      "Recursion: 200\n",
      "Recursion: 300\n",
      "Recursion: 400\n",
      "Recursion: 500\n",
      "Recursion: 600\n",
      "Recursion: 700\n",
      "Recursion: 800\n",
      "Recursion: 900\n",
      "Recursion: 942\n",
      "2020-02-27 13:33:45.899948\n"
     ]
    }
   ],
   "source": [
    "thread = threading.Thread(target=solve, args = (sudoku[2], safe_cells[2], order[2], order_put[2], False, rec[2], ))\n",
    "thread.start()"
   ]
  },
  {
   "cell_type": "code",
   "execution_count": 27,
   "metadata": {},
   "outputs": [
    {
     "data": {
      "text/plain": [
       "[array([[6, 1, 3, 4, 8, 9, 5, 7, 2],\n",
       "        [9, 4, 2, 7, 5, 3, 6, 1, 8],\n",
       "        [8, 5, 7, 1, 2, 6, 3, 9, 4],\n",
       "        [1, 8, 9, 5, 3, 2, 7, 4, 6],\n",
       "        [4, 2, 5, 6, 9, 7, 1, 8, 3],\n",
       "        [3, 7, 6, 8, 1, 4, 9, 2, 5],\n",
       "        [2, 9, 4, 3, 6, 1, 8, 5, 7],\n",
       "        [7, 3, 8, 9, 4, 5, 2, 6, 1],\n",
       "        [5, 6, 1, 2, 7, 8, 4, 3, 9]]), array([[2, 3, 7, 1, 5, 4, 6, 8, 9],\n",
       "        [5, 9, 1, 6, 8, 7, 4, 3, 2],\n",
       "        [6, 8, 4, 9, 2, 3, 5, 1, 7],\n",
       "        [3, 7, 8, 4, 1, 5, 9, 2, 6],\n",
       "        [9, 2, 5, 3, 7, 6, 8, 4, 1],\n",
       "        [1, 4, 6, 2, 9, 8, 7, 5, 3],\n",
       "        [7, 6, 3, 8, 4, 1, 2, 9, 5],\n",
       "        [4, 5, 9, 7, 3, 2, 1, 6, 8],\n",
       "        [8, 1, 2, 5, 6, 9, 3, 7, 4]]), array([[1, 4, 9, 7, 8, 6, 3, 5, 2],\n",
       "        [6, 5, 3, 2, 9, 4, 8, 7, 1],\n",
       "        [2, 7, 8, 5, 3, 1, 4, 6, 9],\n",
       "        [5, 1, 2, 4, 6, 3, 9, 8, 7],\n",
       "        [7, 9, 6, 8, 5, 2, 1, 3, 4],\n",
       "        [8, 3, 4, 9, 1, 7, 6, 2, 5],\n",
       "        [3, 2, 5, 6, 4, 9, 7, 1, 8],\n",
       "        [4, 8, 1, 3, 7, 5, 2, 9, 6],\n",
       "        [9, 6, 7, 1, 2, 8, 5, 4, 3]])]"
      ]
     },
     "execution_count": 27,
     "metadata": {},
     "output_type": "execute_result"
    }
   ],
   "source": [
    "sudoku"
   ]
  },
  {
   "cell_type": "code",
   "execution_count": null,
   "metadata": {},
   "outputs": [],
   "source": []
  }
 ],
 "metadata": {
  "kernelspec": {
   "display_name": "Python 3",
   "language": "python",
   "name": "python3"
  },
  "language_info": {
   "codemirror_mode": {
    "name": "ipython",
    "version": 3
   },
   "file_extension": ".py",
   "mimetype": "text/x-python",
   "name": "python",
   "nbconvert_exporter": "python",
   "pygments_lexer": "ipython3",
   "version": "3.7.3"
  }
 },
 "nbformat": 4,
 "nbformat_minor": 2
}
