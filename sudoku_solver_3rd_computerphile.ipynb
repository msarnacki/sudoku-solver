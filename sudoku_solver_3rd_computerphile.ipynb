{
 "cells": [
  {
   "cell_type": "markdown",
   "metadata": {},
   "source": [
    "This code is copied from Computerphile's video about solving sudoku"
   ]
  },
  {
   "cell_type": "code",
   "execution_count": 25,
   "metadata": {},
   "outputs": [],
   "source": [
    "import numpy as np\n",
    "import datetime"
   ]
  },
  {
   "cell_type": "code",
   "execution_count": 26,
   "metadata": {},
   "outputs": [],
   "source": [
    "#sudoku = np.zeros(81,dtype=\"int\").reshape(9,9)\n",
    "def clear_sudoku():\n",
    "    sudoku = [[0, 0, 0, 0, 0, 0, 0, 0, 0],\n",
    "              [0, 0, 0, 0, 0, 0, 0, 0, 0],\n",
    "              [0, 0, 0, 0, 0, 0, 0, 0, 0],\n",
    "              [0, 0, 0, 0, 0, 0, 0, 0, 0],\n",
    "              [0, 0, 0, 0, 0, 0, 0, 0, 0],\n",
    "              [0, 0, 0, 0, 0, 0, 0, 0, 0],\n",
    "              [0, 0, 0, 0, 0, 0, 0, 0, 0],\n",
    "              [0, 0, 0, 0, 0, 0, 0, 0, 0],\n",
    "              [0, 0, 0, 0, 0, 0, 0, 0, 0]]\n",
    "\n",
    "    sudoku = np.array(sudoku)\n",
    "    return sudoku"
   ]
  },
  {
   "cell_type": "markdown",
   "metadata": {},
   "source": [
    "Examples are from websudoku.com"
   ]
  },
  {
   "cell_type": "code",
   "execution_count": 27,
   "metadata": {},
   "outputs": [],
   "source": [
    "def example_easy_sudoku():\n",
    "    sudoku = []\n",
    "    sudoku.append(np.array([[0, 4, 0, 0, 0, 3, 0, 6, 0],\n",
    "                 [6, 0, 8, 9, 0, 1, 5, 7, 0],\n",
    "                 [0, 2, 0, 7, 6, 0, 0, 0, 3],\n",
    "                 [2, 0, 0, 4, 5, 7, 0, 0, 0],\n",
    "                 [0, 0, 0, 0, 0, 0, 0, 0, 0],\n",
    "                 [0, 0, 0, 2, 1, 9, 0, 0, 6],\n",
    "                 [3, 0, 0, 0, 9, 4, 0, 5, 0],\n",
    "                 [0, 9, 5, 6, 0, 2, 8, 0, 1],\n",
    "                 [0, 7, 0, 1, 0, 0, 0, 9, 0]]))\n",
    "\n",
    "    sudoku.append(np.array([[0, 5, 0, 1, 4, 0, 0, 0, 2],\n",
    "                 [7, 0, 1, 0, 0, 9, 0, 0, 4],\n",
    "                 [4, 3, 0, 6, 0, 0, 0, 0, 0],\n",
    "                 [5, 0, 3, 0, 9, 1, 2, 0, 0],\n",
    "                 [0, 1, 0, 3, 0, 6, 0, 5, 0],\n",
    "                 [0, 0, 7, 5, 2, 0, 6, 0, 1],\n",
    "                 [0, 0, 0, 0, 0, 8, 0, 9, 5],\n",
    "                 [9, 0, 0, 4, 0, 0, 8, 0, 3],\n",
    "                 [1, 0, 0, 0, 7, 3, 0, 2, 0]]))\n",
    "    \n",
    "    sudoku.append(np.array([[0, 8, 0, 0, 3, 5, 9, 0, 0],\n",
    "                 [0, 0, 6, 1, 0, 0, 0, 0, 0],\n",
    "                 [2, 0, 0, 0, 9, 0, 8, 7, 0],\n",
    "                 [0, 0, 0, 3, 5, 0, 1, 2, 4],\n",
    "                 [1, 4, 3, 0, 0, 0, 7, 5, 8],\n",
    "                 [5, 7, 2, 0, 4, 1, 0, 0, 0],\n",
    "                 [0, 2, 9, 0, 7, 0, 0, 0, 6],\n",
    "                 [0, 0, 0, 0, 0, 4, 2, 0, 0],\n",
    "                 [0, 0, 4, 9, 2, 0, 0, 3, 0]]))\n",
    "\n",
    "    return sudoku"
   ]
  },
  {
   "cell_type": "code",
   "execution_count": 28,
   "metadata": {},
   "outputs": [],
   "source": [
    "def example_medium_sudoku():\n",
    "    sudoku = []\n",
    "    sudoku.append(np.array([[0, 8, 6, 3, 0, 0, 0, 0, 4],\n",
    "                 [0, 0, 1, 0, 9, 0, 0, 0, 0],\n",
    "                 [0, 0, 0, 4, 1, 2, 0, 6, 0],\n",
    "                 [5, 1, 0, 0, 0, 0, 0, 0, 3],\n",
    "                 [6, 0, 3, 0, 5, 0, 8, 0, 1],\n",
    "                 [8, 0, 0, 0, 0, 0, 0, 7, 5],\n",
    "                 [0, 4, 0, 5, 6, 7, 0, 0, 0],\n",
    "                 [0, 0, 0, 0, 8, 0, 2, 0, 0],\n",
    "                 [7, 0, 0, 0, 0, 3, 1, 5, 0]]))\n",
    "\n",
    "    sudoku.append(np.array([[9, 7, 0, 4, 0, 0, 0, 0, 5],\n",
    "                 [0, 8, 3, 2, 0, 5, 0, 0, 0],\n",
    "                 [0, 0, 4, 6, 0, 0, 7, 0, 0],\n",
    "                 [7, 3, 0, 8, 0, 0, 0, 4, 0],\n",
    "                 [0, 0, 0, 7, 0, 1, 0, 0, 0],\n",
    "                 [0, 1, 0, 0, 0, 3, 0, 6, 7],\n",
    "                 [0, 0, 1, 0, 0, 4, 8, 0, 0],\n",
    "                 [0, 0, 0, 3, 0, 6, 4, 5, 0],\n",
    "                 [6, 0, 0, 0, 0, 7, 0, 3, 2]]))\n",
    "    \n",
    "    sudoku.append(np.array([[0, 4, 0, 0, 0, 0, 0, 9, 3],\n",
    "                 [0, 0, 0, 0, 5, 0, 7, 0, 0],\n",
    "                 [0, 0, 0, 0, 3, 2, 5, 0, 6],\n",
    "                 [0, 0, 0, 0, 0, 0, 9, 0, 7],\n",
    "                 [5, 2, 0, 7, 9, 6, 0, 8, 4],\n",
    "                 [7, 0, 1, 0, 0, 0, 0, 0, 0],\n",
    "                 [3, 0, 8, 9, 2, 0, 0, 0, 0],\n",
    "                 [0, 0, 2, 0, 6, 0, 0, 0, 0],\n",
    "                 [9, 6, 0, 0, 0, 0, 0, 3, 0]]))\n",
    "\n",
    "    return sudoku"
   ]
  },
  {
   "cell_type": "code",
   "execution_count": 29,
   "metadata": {},
   "outputs": [],
   "source": [
    "def example_hard_sudoku():\n",
    "    sudoku = []\n",
    "    sudoku.append(np.array([[0, 0, 0, 0, 0, 5, 0, 0, 0],\n",
    "                 [0, 0, 7, 6, 0, 0, 4, 0, 0],\n",
    "                 [3, 0, 0, 0, 7, 0, 0, 1, 0],\n",
    "                 [0, 0, 9, 0, 0, 8, 0, 5, 0],\n",
    "                 [5, 0, 3, 9, 0, 2, 6, 0, 1],\n",
    "                 [0, 4, 0, 1, 0, 0, 2, 0, 0],\n",
    "                 [0, 3, 0, 0, 8, 0, 0, 0, 9],\n",
    "                 [0, 0, 6, 0, 0, 4, 5, 0, 0],\n",
    "                 [0, 0, 0, 7, 0, 0, 0, 0, 0]]))\n",
    "\n",
    "    sudoku.append(np.array([[0, 3, 7, 0, 5, 0, 0, 0, 0],\n",
    "                 [0, 0, 0, 6, 8, 0, 0, 0, 2],\n",
    "                 [0, 0, 4, 0, 2, 0, 0, 1, 0],\n",
    "                 [0, 0, 0, 0, 0, 5, 0, 0, 6],\n",
    "                 [9, 2, 0, 0, 0, 0, 0, 4, 1],\n",
    "                 [1, 0, 0, 2, 0, 0, 0, 0, 0],\n",
    "                 [0, 6, 0, 0, 4, 0, 2, 0, 0],\n",
    "                 [4, 0, 0, 0, 3, 2, 0, 0, 0],\n",
    "                 [0, 0, 0, 0, 6, 0, 3, 7, 0]]))\n",
    "    \n",
    "    sudoku.append(np.array([[6, 0, 0, 5, 0, 0, 0, 0, 1],\n",
    "                 [0, 9, 0, 7, 0, 8, 5, 0, 0],\n",
    "                 [0, 1, 0, 3, 0, 0, 0, 8, 0],\n",
    "                 [1, 0, 8, 0, 3, 0, 6, 0, 0],\n",
    "                 [0, 0, 0, 0, 0, 0, 0, 0, 0],\n",
    "                 [0, 0, 6, 0, 8, 0, 3, 0, 9],\n",
    "                 [0, 4, 0, 0, 0, 3, 0, 9, 0],\n",
    "                 [0, 0, 9, 2, 0, 5, 0, 1, 0],\n",
    "                 [8, 0, 0, 0, 0, 9, 0, 0, 7]]))\n",
    "\n",
    "    return sudoku"
   ]
  },
  {
   "cell_type": "code",
   "execution_count": 30,
   "metadata": {},
   "outputs": [],
   "source": [
    "def example_evil_sudoku():\n",
    "    sudoku = []\n",
    "    sudoku.append(np.array([[6, 0, 0, 4, 0, 0, 0, 0, 0],\n",
    "                 [0, 0, 2, 0, 5, 3, 0, 1, 0],\n",
    "                 [8, 0, 0, 0, 2, 0, 0, 0, 4],\n",
    "                 [1, 0, 9, 5, 0, 0, 7, 0, 0],\n",
    "                 [0, 0, 0, 0, 0, 0, 0, 0, 0],\n",
    "                 [0, 0, 6, 0, 0, 4, 9, 0, 5],\n",
    "                 [2, 0, 0, 0, 6, 0, 0, 0, 7],\n",
    "                 [0, 3, 0, 9, 4, 0, 2, 0, 0],\n",
    "                 [0, 0, 0, 0, 0, 8, 0, 0, 9]]))\n",
    "\n",
    "    sudoku.append(np.array([[0, 3, 7, 0, 5, 0, 0, 0, 0],\n",
    "                 [0, 0, 0, 6, 8, 0, 0, 0, 2],\n",
    "                 [0, 0, 4, 0, 2, 0, 0, 1, 0],\n",
    "                 [0, 0, 0, 0, 0, 5, 0, 0, 6],\n",
    "                 [9, 2, 0, 0, 0, 0, 0, 4, 1],\n",
    "                 [1, 0, 0, 2, 0, 0, 0, 0, 0],\n",
    "                 [0, 6, 0, 0, 4, 0, 2, 0, 0],\n",
    "                 [4, 0, 0, 0, 3, 2, 0, 0, 0],\n",
    "                 [0, 0, 0, 0, 6, 0, 3, 7, 0]]))\n",
    "    \n",
    "    sudoku.append(np.array([[0, 0, 0, 0, 0, 0, 0, 0, 0],\n",
    "                 [0, 5, 3, 0, 0, 4, 8, 7, 0],\n",
    "                 [0, 0, 0, 0, 0, 1, 4, 0, 9],\n",
    "                 [0, 1, 0, 0, 6, 0, 0, 0, 0],\n",
    "                 [7, 9, 0, 0, 0, 0, 0, 3, 4],\n",
    "                 [0, 0, 0, 0, 1, 0, 0, 2, 0],\n",
    "                 [3, 0, 5, 6, 0, 0, 0, 0, 0],\n",
    "                 [0, 8, 1, 3, 0, 0, 2, 9, 0],\n",
    "                 [0, 0, 0, 0, 0, 0, 0, 0, 0]]))\n",
    "\n",
    "    return sudoku"
   ]
  },
  {
   "cell_type": "code",
   "execution_count": 31,
   "metadata": {},
   "outputs": [],
   "source": [
    "#sudoku[1,3] - value from row 1 and col 3\n",
    "#sudoku[:,3] - whole column 3\n",
    "#sudoku[1,:] - whole row 1"
   ]
  },
  {
   "cell_type": "code",
   "execution_count": 32,
   "metadata": {},
   "outputs": [],
   "source": [
    "def possible(y,x,n, sudoku):\n",
    "    for i in range(0,9):\n",
    "        if sudoku[y][i] == n:\n",
    "            return False\n",
    "    for i in range(0,9):\n",
    "        if sudoku[i][x] == n:\n",
    "            return False\n",
    "    x0 = (x//3)*3\n",
    "    y0 = (y//3)*3\n",
    "    for i in range(0,3):\n",
    "        for j in range(0,3):\n",
    "            if sudoku[y0+i][x0+j] == n:\n",
    "                return False\n",
    "    return True"
   ]
  },
  {
   "cell_type": "code",
   "execution_count": 33,
   "metadata": {},
   "outputs": [],
   "source": [
    "#sudoku = example_easy_sudoku()\n",
    "## checking if function works\n",
    "#possible(0, 0, 5, sudoku[0])"
   ]
  },
  {
   "cell_type": "code",
   "execution_count": 34,
   "metadata": {},
   "outputs": [],
   "source": [
    "def solve(sudoku):\n",
    "    for y in range(9):\n",
    "        for x in range(9):\n",
    "            if sudoku[y][x] == 0:\n",
    "                for n in range(1,10):\n",
    "                    if possible(y,x,n,sudoku):\n",
    "                        sudoku[y][x] = n\n",
    "                        solve(sudoku)\n",
    "                        sudoku[y][x] = 0\n",
    "                return\n",
    "    print(sudoku)\n",
    "    input(\"More?\")"
   ]
  },
  {
   "cell_type": "code",
   "execution_count": 35,
   "metadata": {},
   "outputs": [],
   "source": [
    "#sudoku = clear_sudoku()\n",
    "#sudoku = example_easy_sudoku()\n",
    "#sudoku = example_medium_sudoku()\n",
    "#sudoku = example_hard_sudoku()\n",
    "sudoku = example_evil_sudoku()"
   ]
  },
  {
   "cell_type": "code",
   "execution_count": 36,
   "metadata": {},
   "outputs": [
    {
     "data": {
      "text/plain": [
       "[array([[6, 0, 0, 4, 0, 0, 0, 0, 0],\n",
       "        [0, 0, 2, 0, 5, 3, 0, 1, 0],\n",
       "        [8, 0, 0, 0, 2, 0, 0, 0, 4],\n",
       "        [1, 0, 9, 5, 0, 0, 7, 0, 0],\n",
       "        [0, 0, 0, 0, 0, 0, 0, 0, 0],\n",
       "        [0, 0, 6, 0, 0, 4, 9, 0, 5],\n",
       "        [2, 0, 0, 0, 6, 0, 0, 0, 7],\n",
       "        [0, 3, 0, 9, 4, 0, 2, 0, 0],\n",
       "        [0, 0, 0, 0, 0, 8, 0, 0, 9]]), array([[0, 3, 7, 0, 5, 0, 0, 0, 0],\n",
       "        [0, 0, 0, 6, 8, 0, 0, 0, 2],\n",
       "        [0, 0, 4, 0, 2, 0, 0, 1, 0],\n",
       "        [0, 0, 0, 0, 0, 5, 0, 0, 6],\n",
       "        [9, 2, 0, 0, 0, 0, 0, 4, 1],\n",
       "        [1, 0, 0, 2, 0, 0, 0, 0, 0],\n",
       "        [0, 6, 0, 0, 4, 0, 2, 0, 0],\n",
       "        [4, 0, 0, 0, 3, 2, 0, 0, 0],\n",
       "        [0, 0, 0, 0, 6, 0, 3, 7, 0]]), array([[0, 0, 0, 0, 0, 0, 0, 0, 0],\n",
       "        [0, 5, 3, 0, 0, 4, 8, 7, 0],\n",
       "        [0, 0, 0, 0, 0, 1, 4, 0, 9],\n",
       "        [0, 1, 0, 0, 6, 0, 0, 0, 0],\n",
       "        [7, 9, 0, 0, 0, 0, 0, 3, 4],\n",
       "        [0, 0, 0, 0, 1, 0, 0, 2, 0],\n",
       "        [3, 0, 5, 6, 0, 0, 0, 0, 0],\n",
       "        [0, 8, 1, 3, 0, 0, 2, 9, 0],\n",
       "        [0, 0, 0, 0, 0, 0, 0, 0, 0]])]"
      ]
     },
     "execution_count": 36,
     "metadata": {},
     "output_type": "execute_result"
    }
   ],
   "source": [
    "sudoku"
   ]
  },
  {
   "cell_type": "code",
   "execution_count": 37,
   "metadata": {},
   "outputs": [
    {
     "name": "stdout",
     "output_type": "stream",
     "text": [
      "[[1 4 9 7 8 6 3 5 2]\n",
      " [6 5 3 2 9 4 8 7 1]\n",
      " [2 7 8 5 3 1 4 6 9]\n",
      " [5 1 2 4 6 3 9 8 7]\n",
      " [7 9 6 8 5 2 1 3 4]\n",
      " [8 3 4 9 1 7 6 2 5]\n",
      " [3 2 5 6 4 9 7 1 8]\n",
      " [4 8 1 3 7 5 2 9 6]\n",
      " [9 6 7 1 2 8 5 4 3]]\n"
     ]
    },
    {
     "name": "stdin",
     "output_type": "stream",
     "text": [
      "More? \n"
     ]
    }
   ],
   "source": [
    "solve(sudoku[2])"
   ]
  }
 ],
 "metadata": {
  "kernelspec": {
   "display_name": "Python 3",
   "language": "python",
   "name": "python3"
  },
  "language_info": {
   "codemirror_mode": {
    "name": "ipython",
    "version": 3
   },
   "file_extension": ".py",
   "mimetype": "text/x-python",
   "name": "python",
   "nbconvert_exporter": "python",
   "pygments_lexer": "ipython3",
   "version": "3.7.3"
  }
 },
 "nbformat": 4,
 "nbformat_minor": 2
}
